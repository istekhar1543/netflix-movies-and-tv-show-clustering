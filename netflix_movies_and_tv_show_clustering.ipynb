{
  "nbformat": 4,
  "nbformat_minor": 0,
  "metadata": {
    "colab": {
      "provenance": [],
      "authorship_tag": "ABX9TyMzXQDjDlSzcY4zzj+dtjap",
      "include_colab_link": true
    },
    "kernelspec": {
      "name": "python3",
      "display_name": "Python 3"
    },
    "language_info": {
      "name": "python"
    }
  },
  "cells": [
    {
      "cell_type": "markdown",
      "metadata": {
        "id": "view-in-github",
        "colab_type": "text"
      },
      "source": [
        "<a href=\"https://colab.research.google.com/github/istekhar1543/netflix-movies-and-tv-show-clustering/blob/main/netflix_movies_and_tv_show_clustering.ipynb\" target=\"_parent\"><img src=\"https://colab.research.google.com/assets/colab-badge.svg\" alt=\"Open In Colab\"/></a>"
      ]
    },
    {
      "cell_type": "markdown",
      "source": [
        "# **Project Name -** netflix movies and show clustering\n",
        "\n",
        "**Project Type** - classification\n",
        "\n",
        "**name** - istekhar ansari\n",
        "\n",
        "**GitHub Link -**https://github.com/istekhar1543/netflix-movies-and-tv-show-clustering.git"
      ],
      "metadata": {
        "id": "Jthznm_HoBUX"
      }
    },
    {
      "cell_type": "markdown",
      "source": [
        "# **Problem Statement**\n",
        "\n",
        "\n",
        "\n"
      ],
      "metadata": {
        "id": "sPdXQ3owoP_F"
      }
    },
    {
      "cell_type": "markdown",
      "source": [
        "This dataset consists of tv shows and movies available on Netflix as of 2019. The dataset is collected from Flixable which is a third-party Netflix search engine.\n",
        "\n",
        "In 2018, they released an interesting report which shows that the number of TV shows on Netflix has nearly tripled since 2010. The streaming service’s number of movies has decreased by more than 2,000 titles since 2010, while its number of TV shows has nearly tripled. It will be interesting to explore what all other insights can be obtained from the same dataset.\n",
        "\n",
        "Integrating this dataset with other external datasets such as IMDB ratings, rotten tomatoes can also provide many interesting findings."
      ],
      "metadata": {
        "id": "Ow9H6bR5oShf"
      }
    },
    {
      "cell_type": "markdown",
      "source": [
        "## <b>In this  project, you are required to do </b>\n",
        "1. Exploratory Data Analysis\n",
        "\n",
        "2. Understanding what type content is available in different countries\n",
        "\n",
        "3. Is Netflix has increasingly focusing on TV rather than movies in recent years.\n",
        "4. Clustering similar content by matching text-based features\n",
        "\n"
      ],
      "metadata": {
        "id": "5XRZ4lRxo2gD"
      }
    },
    {
      "cell_type": "markdown",
      "source": [
        "# **Attribute Information**"
      ],
      "metadata": {
        "id": "3oGMe0fppI2A"
      }
    },
    {
      "cell_type": "markdown",
      "source": [
        "1. show_id : Unique ID for every Movie / Tv Show\n",
        "\n",
        "2. type : Identifier - A Movie or TV Show\n",
        "\n",
        "3. title : Title of the Movie / Tv Show\n",
        "\n",
        "4. director : Director of the Movie\n",
        "\n",
        "5. cast : Actors involved in the movie / show\n",
        "\n",
        "6. country : Country where the movie / show was produced\n",
        "\n",
        "7. date_added : Date it was added on Netflix\n",
        "\n",
        "8. release_year : Actual Releaseyear of the movie / show\n",
        "\n",
        "9. rating : TV Rating of the movie / show\n",
        "\n",
        "10. duration : Total Duration - in minutes or number of seasons\n",
        "\n",
        "11. listed_in : Genere\n",
        "\n",
        "12. description: The Summary description"
      ],
      "metadata": {
        "id": "EwWyZB1opLGY"
      }
    },
    {
      "cell_type": "markdown",
      "source": [
        "**Importing all libraries**"
      ],
      "metadata": {
        "id": "7ei5aBiSpa4b"
      }
    },
    {
      "cell_type": "code",
      "execution_count": 23,
      "metadata": {
        "id": "P1ExBzHpm6Xk"
      },
      "outputs": [],
      "source": [
        "# Importing the libraries\n",
        "import numpy as np\n",
        "import pandas as pd\n",
        "from numpy import math\n",
        "import seaborn as sns\n",
        "import matplotlib.pyplot as plt\n",
        "import matplotlib.ticker as mtick\n",
        "from matplotlib.pyplot import figure\n",
        "import plotly.graph_objects as go\n",
        "import plotly.offline as py\n",
        "import plotly.express as px\n",
        "from datetime import datetime\n",
        "\n",
        "import warnings\n",
        "warnings.filterwarnings('ignore')"
      ]
    },
    {
      "cell_type": "code",
      "source": [
        "#mounting the google drive to access the files\n",
        "from google.colab import drive\n",
        "drive.mount('/content/drive')"
      ],
      "metadata": {
        "id": "DoIyYytHpulc",
        "outputId": "8104a940-d745-4595-b4d6-2f5040d0cf7e",
        "colab": {
          "base_uri": "https://localhost:8080/"
        }
      },
      "execution_count": 4,
      "outputs": [
        {
          "output_type": "stream",
          "name": "stdout",
          "text": [
            "Drive already mounted at /content/drive; to attempt to forcibly remount, call drive.mount(\"/content/drive\", force_remount=True).\n"
          ]
        }
      ]
    },
    {
      "cell_type": "code",
      "source": [
        "#Loading the dataset\n",
        "df = pd.read_csv('/content/drive/MyDrive/ML project/classification project/NETFLIX MOVIES AND TV SHOWS CLUSTERING.csv')\n"
      ],
      "metadata": {
        "id": "3ns5GszOp9k_"
      },
      "execution_count": 5,
      "outputs": []
    },
    {
      "cell_type": "code",
      "source": [
        "# top 5 rows\n",
        "df.head(5)"
      ],
      "metadata": {
        "id": "1wDps9I5qVX0",
        "outputId": "dbe02e93-1723-44bc-e6f4-ebd922263ff2",
        "colab": {
          "base_uri": "https://localhost:8080/",
          "height": 476
        }
      },
      "execution_count": 6,
      "outputs": [
        {
          "output_type": "execute_result",
          "data": {
            "text/plain": [
              "  show_id     type  title           director  \\\n",
              "0      s1  TV Show     3%                NaN   \n",
              "1      s2    Movie   7:19  Jorge Michel Grau   \n",
              "2      s3    Movie  23:59       Gilbert Chan   \n",
              "3      s4    Movie      9        Shane Acker   \n",
              "4      s5    Movie     21     Robert Luketic   \n",
              "\n",
              "                                                cast        country  \\\n",
              "0  João Miguel, Bianca Comparato, Michel Gomes, R...         Brazil   \n",
              "1  Demián Bichir, Héctor Bonilla, Oscar Serrano, ...         Mexico   \n",
              "2  Tedd Chan, Stella Chung, Henley Hii, Lawrence ...      Singapore   \n",
              "3  Elijah Wood, John C. Reilly, Jennifer Connelly...  United States   \n",
              "4  Jim Sturgess, Kevin Spacey, Kate Bosworth, Aar...  United States   \n",
              "\n",
              "          date_added  release_year rating   duration  \\\n",
              "0    August 14, 2020          2020  TV-MA  4 Seasons   \n",
              "1  December 23, 2016          2016  TV-MA     93 min   \n",
              "2  December 20, 2018          2011      R     78 min   \n",
              "3  November 16, 2017          2009  PG-13     80 min   \n",
              "4    January 1, 2020          2008  PG-13    123 min   \n",
              "\n",
              "                                           listed_in  \\\n",
              "0  International TV Shows, TV Dramas, TV Sci-Fi &...   \n",
              "1                       Dramas, International Movies   \n",
              "2                Horror Movies, International Movies   \n",
              "3  Action & Adventure, Independent Movies, Sci-Fi...   \n",
              "4                                             Dramas   \n",
              "\n",
              "                                         description  \n",
              "0  In a future where the elite inhabit an island ...  \n",
              "1  After a devastating earthquake hits Mexico Cit...  \n",
              "2  When an army recruit is found dead, his fellow...  \n",
              "3  In a postapocalyptic world, rag-doll robots hi...  \n",
              "4  A brilliant group of students become card-coun...  "
            ],
            "text/html": [
              "\n",
              "\n",
              "  <div id=\"df-1af17326-87d4-46f2-b1fd-47dd164f8256\">\n",
              "    <div class=\"colab-df-container\">\n",
              "      <div>\n",
              "<style scoped>\n",
              "    .dataframe tbody tr th:only-of-type {\n",
              "        vertical-align: middle;\n",
              "    }\n",
              "\n",
              "    .dataframe tbody tr th {\n",
              "        vertical-align: top;\n",
              "    }\n",
              "\n",
              "    .dataframe thead th {\n",
              "        text-align: right;\n",
              "    }\n",
              "</style>\n",
              "<table border=\"1\" class=\"dataframe\">\n",
              "  <thead>\n",
              "    <tr style=\"text-align: right;\">\n",
              "      <th></th>\n",
              "      <th>show_id</th>\n",
              "      <th>type</th>\n",
              "      <th>title</th>\n",
              "      <th>director</th>\n",
              "      <th>cast</th>\n",
              "      <th>country</th>\n",
              "      <th>date_added</th>\n",
              "      <th>release_year</th>\n",
              "      <th>rating</th>\n",
              "      <th>duration</th>\n",
              "      <th>listed_in</th>\n",
              "      <th>description</th>\n",
              "    </tr>\n",
              "  </thead>\n",
              "  <tbody>\n",
              "    <tr>\n",
              "      <th>0</th>\n",
              "      <td>s1</td>\n",
              "      <td>TV Show</td>\n",
              "      <td>3%</td>\n",
              "      <td>NaN</td>\n",
              "      <td>João Miguel, Bianca Comparato, Michel Gomes, R...</td>\n",
              "      <td>Brazil</td>\n",
              "      <td>August 14, 2020</td>\n",
              "      <td>2020</td>\n",
              "      <td>TV-MA</td>\n",
              "      <td>4 Seasons</td>\n",
              "      <td>International TV Shows, TV Dramas, TV Sci-Fi &amp;...</td>\n",
              "      <td>In a future where the elite inhabit an island ...</td>\n",
              "    </tr>\n",
              "    <tr>\n",
              "      <th>1</th>\n",
              "      <td>s2</td>\n",
              "      <td>Movie</td>\n",
              "      <td>7:19</td>\n",
              "      <td>Jorge Michel Grau</td>\n",
              "      <td>Demián Bichir, Héctor Bonilla, Oscar Serrano, ...</td>\n",
              "      <td>Mexico</td>\n",
              "      <td>December 23, 2016</td>\n",
              "      <td>2016</td>\n",
              "      <td>TV-MA</td>\n",
              "      <td>93 min</td>\n",
              "      <td>Dramas, International Movies</td>\n",
              "      <td>After a devastating earthquake hits Mexico Cit...</td>\n",
              "    </tr>\n",
              "    <tr>\n",
              "      <th>2</th>\n",
              "      <td>s3</td>\n",
              "      <td>Movie</td>\n",
              "      <td>23:59</td>\n",
              "      <td>Gilbert Chan</td>\n",
              "      <td>Tedd Chan, Stella Chung, Henley Hii, Lawrence ...</td>\n",
              "      <td>Singapore</td>\n",
              "      <td>December 20, 2018</td>\n",
              "      <td>2011</td>\n",
              "      <td>R</td>\n",
              "      <td>78 min</td>\n",
              "      <td>Horror Movies, International Movies</td>\n",
              "      <td>When an army recruit is found dead, his fellow...</td>\n",
              "    </tr>\n",
              "    <tr>\n",
              "      <th>3</th>\n",
              "      <td>s4</td>\n",
              "      <td>Movie</td>\n",
              "      <td>9</td>\n",
              "      <td>Shane Acker</td>\n",
              "      <td>Elijah Wood, John C. Reilly, Jennifer Connelly...</td>\n",
              "      <td>United States</td>\n",
              "      <td>November 16, 2017</td>\n",
              "      <td>2009</td>\n",
              "      <td>PG-13</td>\n",
              "      <td>80 min</td>\n",
              "      <td>Action &amp; Adventure, Independent Movies, Sci-Fi...</td>\n",
              "      <td>In a postapocalyptic world, rag-doll robots hi...</td>\n",
              "    </tr>\n",
              "    <tr>\n",
              "      <th>4</th>\n",
              "      <td>s5</td>\n",
              "      <td>Movie</td>\n",
              "      <td>21</td>\n",
              "      <td>Robert Luketic</td>\n",
              "      <td>Jim Sturgess, Kevin Spacey, Kate Bosworth, Aar...</td>\n",
              "      <td>United States</td>\n",
              "      <td>January 1, 2020</td>\n",
              "      <td>2008</td>\n",
              "      <td>PG-13</td>\n",
              "      <td>123 min</td>\n",
              "      <td>Dramas</td>\n",
              "      <td>A brilliant group of students become card-coun...</td>\n",
              "    </tr>\n",
              "  </tbody>\n",
              "</table>\n",
              "</div>\n",
              "      <button class=\"colab-df-convert\" onclick=\"convertToInteractive('df-1af17326-87d4-46f2-b1fd-47dd164f8256')\"\n",
              "              title=\"Convert this dataframe to an interactive table.\"\n",
              "              style=\"display:none;\">\n",
              "\n",
              "  <svg xmlns=\"http://www.w3.org/2000/svg\" height=\"24px\"viewBox=\"0 0 24 24\"\n",
              "       width=\"24px\">\n",
              "    <path d=\"M0 0h24v24H0V0z\" fill=\"none\"/>\n",
              "    <path d=\"M18.56 5.44l.94 2.06.94-2.06 2.06-.94-2.06-.94-.94-2.06-.94 2.06-2.06.94zm-11 1L8.5 8.5l.94-2.06 2.06-.94-2.06-.94L8.5 2.5l-.94 2.06-2.06.94zm10 10l.94 2.06.94-2.06 2.06-.94-2.06-.94-.94-2.06-.94 2.06-2.06.94z\"/><path d=\"M17.41 7.96l-1.37-1.37c-.4-.4-.92-.59-1.43-.59-.52 0-1.04.2-1.43.59L10.3 9.45l-7.72 7.72c-.78.78-.78 2.05 0 2.83L4 21.41c.39.39.9.59 1.41.59.51 0 1.02-.2 1.41-.59l7.78-7.78 2.81-2.81c.8-.78.8-2.07 0-2.86zM5.41 20L4 18.59l7.72-7.72 1.47 1.35L5.41 20z\"/>\n",
              "  </svg>\n",
              "      </button>\n",
              "\n",
              "\n",
              "\n",
              "    <div id=\"df-73ddca5d-107c-47a3-bfc8-968ff3234690\">\n",
              "      <button class=\"colab-df-quickchart\" onclick=\"quickchart('df-73ddca5d-107c-47a3-bfc8-968ff3234690')\"\n",
              "              title=\"Suggest charts.\"\n",
              "              style=\"display:none;\">\n",
              "\n",
              "<svg xmlns=\"http://www.w3.org/2000/svg\" height=\"24px\"viewBox=\"0 0 24 24\"\n",
              "     width=\"24px\">\n",
              "    <g>\n",
              "        <path d=\"M19 3H5c-1.1 0-2 .9-2 2v14c0 1.1.9 2 2 2h14c1.1 0 2-.9 2-2V5c0-1.1-.9-2-2-2zM9 17H7v-7h2v7zm4 0h-2V7h2v10zm4 0h-2v-4h2v4z\"/>\n",
              "    </g>\n",
              "</svg>\n",
              "      </button>\n",
              "    </div>\n",
              "\n",
              "<style>\n",
              "  .colab-df-quickchart {\n",
              "    background-color: #E8F0FE;\n",
              "    border: none;\n",
              "    border-radius: 50%;\n",
              "    cursor: pointer;\n",
              "    display: none;\n",
              "    fill: #1967D2;\n",
              "    height: 32px;\n",
              "    padding: 0 0 0 0;\n",
              "    width: 32px;\n",
              "  }\n",
              "\n",
              "  .colab-df-quickchart:hover {\n",
              "    background-color: #E2EBFA;\n",
              "    box-shadow: 0px 1px 2px rgba(60, 64, 67, 0.3), 0px 1px 3px 1px rgba(60, 64, 67, 0.15);\n",
              "    fill: #174EA6;\n",
              "  }\n",
              "\n",
              "  [theme=dark] .colab-df-quickchart {\n",
              "    background-color: #3B4455;\n",
              "    fill: #D2E3FC;\n",
              "  }\n",
              "\n",
              "  [theme=dark] .colab-df-quickchart:hover {\n",
              "    background-color: #434B5C;\n",
              "    box-shadow: 0px 1px 3px 1px rgba(0, 0, 0, 0.15);\n",
              "    filter: drop-shadow(0px 1px 2px rgba(0, 0, 0, 0.3));\n",
              "    fill: #FFFFFF;\n",
              "  }\n",
              "</style>\n",
              "\n",
              "    <script>\n",
              "      async function quickchart(key) {\n",
              "        const containerElement = document.querySelector('#' + key);\n",
              "        const charts = await google.colab.kernel.invokeFunction(\n",
              "            'suggestCharts', [key], {});\n",
              "      }\n",
              "    </script>\n",
              "\n",
              "      <script>\n",
              "\n",
              "function displayQuickchartButton(domScope) {\n",
              "  let quickchartButtonEl =\n",
              "    domScope.querySelector('#df-73ddca5d-107c-47a3-bfc8-968ff3234690 button.colab-df-quickchart');\n",
              "  quickchartButtonEl.style.display =\n",
              "    google.colab.kernel.accessAllowed ? 'block' : 'none';\n",
              "}\n",
              "\n",
              "        displayQuickchartButton(document);\n",
              "      </script>\n",
              "      <style>\n",
              "    .colab-df-container {\n",
              "      display:flex;\n",
              "      flex-wrap:wrap;\n",
              "      gap: 12px;\n",
              "    }\n",
              "\n",
              "    .colab-df-convert {\n",
              "      background-color: #E8F0FE;\n",
              "      border: none;\n",
              "      border-radius: 50%;\n",
              "      cursor: pointer;\n",
              "      display: none;\n",
              "      fill: #1967D2;\n",
              "      height: 32px;\n",
              "      padding: 0 0 0 0;\n",
              "      width: 32px;\n",
              "    }\n",
              "\n",
              "    .colab-df-convert:hover {\n",
              "      background-color: #E2EBFA;\n",
              "      box-shadow: 0px 1px 2px rgba(60, 64, 67, 0.3), 0px 1px 3px 1px rgba(60, 64, 67, 0.15);\n",
              "      fill: #174EA6;\n",
              "    }\n",
              "\n",
              "    [theme=dark] .colab-df-convert {\n",
              "      background-color: #3B4455;\n",
              "      fill: #D2E3FC;\n",
              "    }\n",
              "\n",
              "    [theme=dark] .colab-df-convert:hover {\n",
              "      background-color: #434B5C;\n",
              "      box-shadow: 0px 1px 3px 1px rgba(0, 0, 0, 0.15);\n",
              "      filter: drop-shadow(0px 1px 2px rgba(0, 0, 0, 0.3));\n",
              "      fill: #FFFFFF;\n",
              "    }\n",
              "  </style>\n",
              "\n",
              "      <script>\n",
              "        const buttonEl =\n",
              "          document.querySelector('#df-1af17326-87d4-46f2-b1fd-47dd164f8256 button.colab-df-convert');\n",
              "        buttonEl.style.display =\n",
              "          google.colab.kernel.accessAllowed ? 'block' : 'none';\n",
              "\n",
              "        async function convertToInteractive(key) {\n",
              "          const element = document.querySelector('#df-1af17326-87d4-46f2-b1fd-47dd164f8256');\n",
              "          const dataTable =\n",
              "            await google.colab.kernel.invokeFunction('convertToInteractive',\n",
              "                                                     [key], {});\n",
              "          if (!dataTable) return;\n",
              "\n",
              "          const docLinkHtml = 'Like what you see? Visit the ' +\n",
              "            '<a target=\"_blank\" href=https://colab.research.google.com/notebooks/data_table.ipynb>data table notebook</a>'\n",
              "            + ' to learn more about interactive tables.';\n",
              "          element.innerHTML = '';\n",
              "          dataTable['output_type'] = 'display_data';\n",
              "          await google.colab.output.renderOutput(dataTable, element);\n",
              "          const docLink = document.createElement('div');\n",
              "          docLink.innerHTML = docLinkHtml;\n",
              "          element.appendChild(docLink);\n",
              "        }\n",
              "      </script>\n",
              "    </div>\n",
              "  </div>\n"
            ]
          },
          "metadata": {},
          "execution_count": 6
        }
      ]
    },
    {
      "cell_type": "code",
      "source": [
        "# tail 5 rows\n",
        "df.tail(5)"
      ],
      "metadata": {
        "id": "uJnD51Naqqpa",
        "outputId": "56cc72de-87e7-497f-def2-cb28bd9dfe75",
        "colab": {
          "base_uri": "https://localhost:8080/",
          "height": 614
        }
      },
      "execution_count": 7,
      "outputs": [
        {
          "output_type": "execute_result",
          "data": {
            "text/plain": [
              "     show_id     type                                    title     director  \\\n",
              "7782   s7783    Movie                                     Zozo  Josef Fares   \n",
              "7783   s7784    Movie                                   Zubaan  Mozez Singh   \n",
              "7784   s7785    Movie                        Zulu Man in Japan          NaN   \n",
              "7785   s7786  TV Show                    Zumbo's Just Desserts          NaN   \n",
              "7786   s7787    Movie  ZZ TOP: THAT LITTLE OL' BAND FROM TEXAS     Sam Dunn   \n",
              "\n",
              "                                                   cast  \\\n",
              "7782  Imad Creidi, Antoinette Turk, Elias Gergi, Car...   \n",
              "7783  Vicky Kaushal, Sarah-Jane Dias, Raaghav Chanan...   \n",
              "7784                                            Nasty C   \n",
              "7785                         Adriano Zumbo, Rachel Khoo   \n",
              "7786                                                NaN   \n",
              "\n",
              "                                                country          date_added  \\\n",
              "7782  Sweden, Czech Republic, United Kingdom, Denmar...    October 19, 2020   \n",
              "7783                                              India       March 2, 2019   \n",
              "7784                                                NaN  September 25, 2020   \n",
              "7785                                          Australia    October 31, 2020   \n",
              "7786              United Kingdom, Canada, United States       March 1, 2020   \n",
              "\n",
              "      release_year rating  duration  \\\n",
              "7782          2005  TV-MA    99 min   \n",
              "7783          2015  TV-14   111 min   \n",
              "7784          2019  TV-MA    44 min   \n",
              "7785          2019  TV-PG  1 Season   \n",
              "7786          2019  TV-MA    90 min   \n",
              "\n",
              "                                              listed_in  \\\n",
              "7782                       Dramas, International Movies   \n",
              "7783     Dramas, International Movies, Music & Musicals   \n",
              "7784  Documentaries, International Movies, Music & M...   \n",
              "7785                 International TV Shows, Reality TV   \n",
              "7786                    Documentaries, Music & Musicals   \n",
              "\n",
              "                                            description  \n",
              "7782  When Lebanon's Civil War deprives Zozo of his ...  \n",
              "7783  A scrappy but poor boy worms his way into a ty...  \n",
              "7784  In this documentary, South African rapper Nast...  \n",
              "7785  Dessert wizard Adriano Zumbo looks for the nex...  \n",
              "7786  This documentary delves into the mystique behi...  "
            ],
            "text/html": [
              "\n",
              "\n",
              "  <div id=\"df-7bb4bc17-b58f-492b-94a4-1ee3d03ba202\">\n",
              "    <div class=\"colab-df-container\">\n",
              "      <div>\n",
              "<style scoped>\n",
              "    .dataframe tbody tr th:only-of-type {\n",
              "        vertical-align: middle;\n",
              "    }\n",
              "\n",
              "    .dataframe tbody tr th {\n",
              "        vertical-align: top;\n",
              "    }\n",
              "\n",
              "    .dataframe thead th {\n",
              "        text-align: right;\n",
              "    }\n",
              "</style>\n",
              "<table border=\"1\" class=\"dataframe\">\n",
              "  <thead>\n",
              "    <tr style=\"text-align: right;\">\n",
              "      <th></th>\n",
              "      <th>show_id</th>\n",
              "      <th>type</th>\n",
              "      <th>title</th>\n",
              "      <th>director</th>\n",
              "      <th>cast</th>\n",
              "      <th>country</th>\n",
              "      <th>date_added</th>\n",
              "      <th>release_year</th>\n",
              "      <th>rating</th>\n",
              "      <th>duration</th>\n",
              "      <th>listed_in</th>\n",
              "      <th>description</th>\n",
              "    </tr>\n",
              "  </thead>\n",
              "  <tbody>\n",
              "    <tr>\n",
              "      <th>7782</th>\n",
              "      <td>s7783</td>\n",
              "      <td>Movie</td>\n",
              "      <td>Zozo</td>\n",
              "      <td>Josef Fares</td>\n",
              "      <td>Imad Creidi, Antoinette Turk, Elias Gergi, Car...</td>\n",
              "      <td>Sweden, Czech Republic, United Kingdom, Denmar...</td>\n",
              "      <td>October 19, 2020</td>\n",
              "      <td>2005</td>\n",
              "      <td>TV-MA</td>\n",
              "      <td>99 min</td>\n",
              "      <td>Dramas, International Movies</td>\n",
              "      <td>When Lebanon's Civil War deprives Zozo of his ...</td>\n",
              "    </tr>\n",
              "    <tr>\n",
              "      <th>7783</th>\n",
              "      <td>s7784</td>\n",
              "      <td>Movie</td>\n",
              "      <td>Zubaan</td>\n",
              "      <td>Mozez Singh</td>\n",
              "      <td>Vicky Kaushal, Sarah-Jane Dias, Raaghav Chanan...</td>\n",
              "      <td>India</td>\n",
              "      <td>March 2, 2019</td>\n",
              "      <td>2015</td>\n",
              "      <td>TV-14</td>\n",
              "      <td>111 min</td>\n",
              "      <td>Dramas, International Movies, Music &amp; Musicals</td>\n",
              "      <td>A scrappy but poor boy worms his way into a ty...</td>\n",
              "    </tr>\n",
              "    <tr>\n",
              "      <th>7784</th>\n",
              "      <td>s7785</td>\n",
              "      <td>Movie</td>\n",
              "      <td>Zulu Man in Japan</td>\n",
              "      <td>NaN</td>\n",
              "      <td>Nasty C</td>\n",
              "      <td>NaN</td>\n",
              "      <td>September 25, 2020</td>\n",
              "      <td>2019</td>\n",
              "      <td>TV-MA</td>\n",
              "      <td>44 min</td>\n",
              "      <td>Documentaries, International Movies, Music &amp; M...</td>\n",
              "      <td>In this documentary, South African rapper Nast...</td>\n",
              "    </tr>\n",
              "    <tr>\n",
              "      <th>7785</th>\n",
              "      <td>s7786</td>\n",
              "      <td>TV Show</td>\n",
              "      <td>Zumbo's Just Desserts</td>\n",
              "      <td>NaN</td>\n",
              "      <td>Adriano Zumbo, Rachel Khoo</td>\n",
              "      <td>Australia</td>\n",
              "      <td>October 31, 2020</td>\n",
              "      <td>2019</td>\n",
              "      <td>TV-PG</td>\n",
              "      <td>1 Season</td>\n",
              "      <td>International TV Shows, Reality TV</td>\n",
              "      <td>Dessert wizard Adriano Zumbo looks for the nex...</td>\n",
              "    </tr>\n",
              "    <tr>\n",
              "      <th>7786</th>\n",
              "      <td>s7787</td>\n",
              "      <td>Movie</td>\n",
              "      <td>ZZ TOP: THAT LITTLE OL' BAND FROM TEXAS</td>\n",
              "      <td>Sam Dunn</td>\n",
              "      <td>NaN</td>\n",
              "      <td>United Kingdom, Canada, United States</td>\n",
              "      <td>March 1, 2020</td>\n",
              "      <td>2019</td>\n",
              "      <td>TV-MA</td>\n",
              "      <td>90 min</td>\n",
              "      <td>Documentaries, Music &amp; Musicals</td>\n",
              "      <td>This documentary delves into the mystique behi...</td>\n",
              "    </tr>\n",
              "  </tbody>\n",
              "</table>\n",
              "</div>\n",
              "      <button class=\"colab-df-convert\" onclick=\"convertToInteractive('df-7bb4bc17-b58f-492b-94a4-1ee3d03ba202')\"\n",
              "              title=\"Convert this dataframe to an interactive table.\"\n",
              "              style=\"display:none;\">\n",
              "\n",
              "  <svg xmlns=\"http://www.w3.org/2000/svg\" height=\"24px\"viewBox=\"0 0 24 24\"\n",
              "       width=\"24px\">\n",
              "    <path d=\"M0 0h24v24H0V0z\" fill=\"none\"/>\n",
              "    <path d=\"M18.56 5.44l.94 2.06.94-2.06 2.06-.94-2.06-.94-.94-2.06-.94 2.06-2.06.94zm-11 1L8.5 8.5l.94-2.06 2.06-.94-2.06-.94L8.5 2.5l-.94 2.06-2.06.94zm10 10l.94 2.06.94-2.06 2.06-.94-2.06-.94-.94-2.06-.94 2.06-2.06.94z\"/><path d=\"M17.41 7.96l-1.37-1.37c-.4-.4-.92-.59-1.43-.59-.52 0-1.04.2-1.43.59L10.3 9.45l-7.72 7.72c-.78.78-.78 2.05 0 2.83L4 21.41c.39.39.9.59 1.41.59.51 0 1.02-.2 1.41-.59l7.78-7.78 2.81-2.81c.8-.78.8-2.07 0-2.86zM5.41 20L4 18.59l7.72-7.72 1.47 1.35L5.41 20z\"/>\n",
              "  </svg>\n",
              "      </button>\n",
              "\n",
              "\n",
              "\n",
              "    <div id=\"df-0b8dba59-3db8-430c-96d9-b806d39d2c62\">\n",
              "      <button class=\"colab-df-quickchart\" onclick=\"quickchart('df-0b8dba59-3db8-430c-96d9-b806d39d2c62')\"\n",
              "              title=\"Suggest charts.\"\n",
              "              style=\"display:none;\">\n",
              "\n",
              "<svg xmlns=\"http://www.w3.org/2000/svg\" height=\"24px\"viewBox=\"0 0 24 24\"\n",
              "     width=\"24px\">\n",
              "    <g>\n",
              "        <path d=\"M19 3H5c-1.1 0-2 .9-2 2v14c0 1.1.9 2 2 2h14c1.1 0 2-.9 2-2V5c0-1.1-.9-2-2-2zM9 17H7v-7h2v7zm4 0h-2V7h2v10zm4 0h-2v-4h2v4z\"/>\n",
              "    </g>\n",
              "</svg>\n",
              "      </button>\n",
              "    </div>\n",
              "\n",
              "<style>\n",
              "  .colab-df-quickchart {\n",
              "    background-color: #E8F0FE;\n",
              "    border: none;\n",
              "    border-radius: 50%;\n",
              "    cursor: pointer;\n",
              "    display: none;\n",
              "    fill: #1967D2;\n",
              "    height: 32px;\n",
              "    padding: 0 0 0 0;\n",
              "    width: 32px;\n",
              "  }\n",
              "\n",
              "  .colab-df-quickchart:hover {\n",
              "    background-color: #E2EBFA;\n",
              "    box-shadow: 0px 1px 2px rgba(60, 64, 67, 0.3), 0px 1px 3px 1px rgba(60, 64, 67, 0.15);\n",
              "    fill: #174EA6;\n",
              "  }\n",
              "\n",
              "  [theme=dark] .colab-df-quickchart {\n",
              "    background-color: #3B4455;\n",
              "    fill: #D2E3FC;\n",
              "  }\n",
              "\n",
              "  [theme=dark] .colab-df-quickchart:hover {\n",
              "    background-color: #434B5C;\n",
              "    box-shadow: 0px 1px 3px 1px rgba(0, 0, 0, 0.15);\n",
              "    filter: drop-shadow(0px 1px 2px rgba(0, 0, 0, 0.3));\n",
              "    fill: #FFFFFF;\n",
              "  }\n",
              "</style>\n",
              "\n",
              "    <script>\n",
              "      async function quickchart(key) {\n",
              "        const containerElement = document.querySelector('#' + key);\n",
              "        const charts = await google.colab.kernel.invokeFunction(\n",
              "            'suggestCharts', [key], {});\n",
              "      }\n",
              "    </script>\n",
              "\n",
              "      <script>\n",
              "\n",
              "function displayQuickchartButton(domScope) {\n",
              "  let quickchartButtonEl =\n",
              "    domScope.querySelector('#df-0b8dba59-3db8-430c-96d9-b806d39d2c62 button.colab-df-quickchart');\n",
              "  quickchartButtonEl.style.display =\n",
              "    google.colab.kernel.accessAllowed ? 'block' : 'none';\n",
              "}\n",
              "\n",
              "        displayQuickchartButton(document);\n",
              "      </script>\n",
              "      <style>\n",
              "    .colab-df-container {\n",
              "      display:flex;\n",
              "      flex-wrap:wrap;\n",
              "      gap: 12px;\n",
              "    }\n",
              "\n",
              "    .colab-df-convert {\n",
              "      background-color: #E8F0FE;\n",
              "      border: none;\n",
              "      border-radius: 50%;\n",
              "      cursor: pointer;\n",
              "      display: none;\n",
              "      fill: #1967D2;\n",
              "      height: 32px;\n",
              "      padding: 0 0 0 0;\n",
              "      width: 32px;\n",
              "    }\n",
              "\n",
              "    .colab-df-convert:hover {\n",
              "      background-color: #E2EBFA;\n",
              "      box-shadow: 0px 1px 2px rgba(60, 64, 67, 0.3), 0px 1px 3px 1px rgba(60, 64, 67, 0.15);\n",
              "      fill: #174EA6;\n",
              "    }\n",
              "\n",
              "    [theme=dark] .colab-df-convert {\n",
              "      background-color: #3B4455;\n",
              "      fill: #D2E3FC;\n",
              "    }\n",
              "\n",
              "    [theme=dark] .colab-df-convert:hover {\n",
              "      background-color: #434B5C;\n",
              "      box-shadow: 0px 1px 3px 1px rgba(0, 0, 0, 0.15);\n",
              "      filter: drop-shadow(0px 1px 2px rgba(0, 0, 0, 0.3));\n",
              "      fill: #FFFFFF;\n",
              "    }\n",
              "  </style>\n",
              "\n",
              "      <script>\n",
              "        const buttonEl =\n",
              "          document.querySelector('#df-7bb4bc17-b58f-492b-94a4-1ee3d03ba202 button.colab-df-convert');\n",
              "        buttonEl.style.display =\n",
              "          google.colab.kernel.accessAllowed ? 'block' : 'none';\n",
              "\n",
              "        async function convertToInteractive(key) {\n",
              "          const element = document.querySelector('#df-7bb4bc17-b58f-492b-94a4-1ee3d03ba202');\n",
              "          const dataTable =\n",
              "            await google.colab.kernel.invokeFunction('convertToInteractive',\n",
              "                                                     [key], {});\n",
              "          if (!dataTable) return;\n",
              "\n",
              "          const docLinkHtml = 'Like what you see? Visit the ' +\n",
              "            '<a target=\"_blank\" href=https://colab.research.google.com/notebooks/data_table.ipynb>data table notebook</a>'\n",
              "            + ' to learn more about interactive tables.';\n",
              "          element.innerHTML = '';\n",
              "          dataTable['output_type'] = 'display_data';\n",
              "          await google.colab.output.renderOutput(dataTable, element);\n",
              "          const docLink = document.createElement('div');\n",
              "          docLink.innerHTML = docLinkHtml;\n",
              "          element.appendChild(docLink);\n",
              "        }\n",
              "      </script>\n",
              "    </div>\n",
              "  </div>\n"
            ]
          },
          "metadata": {},
          "execution_count": 7
        }
      ]
    },
    {
      "cell_type": "code",
      "source": [
        "# Checking the shape of the dataframe\n",
        "df.shape"
      ],
      "metadata": {
        "id": "brMp7usyqXt6",
        "outputId": "bcd9073f-655c-4dd5-bc33-34dddd2644ec",
        "colab": {
          "base_uri": "https://localhost:8080/"
        }
      },
      "execution_count": 8,
      "outputs": [
        {
          "output_type": "execute_result",
          "data": {
            "text/plain": [
              "(7787, 12)"
            ]
          },
          "metadata": {},
          "execution_count": 8
        }
      ]
    },
    {
      "cell_type": "code",
      "source": [
        "# Columns name\n",
        "df.columns"
      ],
      "metadata": {
        "id": "EoA734_hq3GF",
        "outputId": "ef7d641f-f1f3-4518-e044-4985c3620d73",
        "colab": {
          "base_uri": "https://localhost:8080/"
        }
      },
      "execution_count": 9,
      "outputs": [
        {
          "output_type": "execute_result",
          "data": {
            "text/plain": [
              "Index(['show_id', 'type', 'title', 'director', 'cast', 'country', 'date_added',\n",
              "       'release_year', 'rating', 'duration', 'listed_in', 'description'],\n",
              "      dtype='object')"
            ]
          },
          "metadata": {},
          "execution_count": 9
        }
      ]
    },
    {
      "cell_type": "code",
      "source": [
        "# Information about the dataset\n",
        "df.info()"
      ],
      "metadata": {
        "id": "viInZYN_q63R",
        "outputId": "8c76a5b6-3dab-4ea9-ae69-2c8f1739bb53",
        "colab": {
          "base_uri": "https://localhost:8080/"
        }
      },
      "execution_count": 10,
      "outputs": [
        {
          "output_type": "stream",
          "name": "stdout",
          "text": [
            "<class 'pandas.core.frame.DataFrame'>\n",
            "RangeIndex: 7787 entries, 0 to 7786\n",
            "Data columns (total 12 columns):\n",
            " #   Column        Non-Null Count  Dtype \n",
            "---  ------        --------------  ----- \n",
            " 0   show_id       7787 non-null   object\n",
            " 1   type          7787 non-null   object\n",
            " 2   title         7787 non-null   object\n",
            " 3   director      5398 non-null   object\n",
            " 4   cast          7069 non-null   object\n",
            " 5   country       7280 non-null   object\n",
            " 6   date_added    7777 non-null   object\n",
            " 7   release_year  7787 non-null   int64 \n",
            " 8   rating        7780 non-null   object\n",
            " 9   duration      7787 non-null   object\n",
            " 10  listed_in     7787 non-null   object\n",
            " 11  description   7787 non-null   object\n",
            "dtypes: int64(1), object(11)\n",
            "memory usage: 730.2+ KB\n"
          ]
        }
      ]
    },
    {
      "cell_type": "markdown",
      "source": [
        "# **Data processing**"
      ],
      "metadata": {
        "id": "htlHYtVZrV8z"
      }
    },
    {
      "cell_type": "code",
      "source": [
        "#Drop duplicates\n",
        "df[df.duplicated()]\n"
      ],
      "metadata": {
        "id": "zt-Jx4BfriY_",
        "outputId": "8aef86cd-212c-4be7-a406-7239e70fbf41",
        "colab": {
          "base_uri": "https://localhost:8080/",
          "height": 49
        }
      },
      "execution_count": 11,
      "outputs": [
        {
          "output_type": "execute_result",
          "data": {
            "text/plain": [
              "Empty DataFrame\n",
              "Columns: [show_id, type, title, director, cast, country, date_added, release_year, rating, duration, listed_in, description]\n",
              "Index: []"
            ],
            "text/html": [
              "\n",
              "\n",
              "  <div id=\"df-36fcea9e-a144-4b43-be08-3e4db892aca2\">\n",
              "    <div class=\"colab-df-container\">\n",
              "      <div>\n",
              "<style scoped>\n",
              "    .dataframe tbody tr th:only-of-type {\n",
              "        vertical-align: middle;\n",
              "    }\n",
              "\n",
              "    .dataframe tbody tr th {\n",
              "        vertical-align: top;\n",
              "    }\n",
              "\n",
              "    .dataframe thead th {\n",
              "        text-align: right;\n",
              "    }\n",
              "</style>\n",
              "<table border=\"1\" class=\"dataframe\">\n",
              "  <thead>\n",
              "    <tr style=\"text-align: right;\">\n",
              "      <th></th>\n",
              "      <th>show_id</th>\n",
              "      <th>type</th>\n",
              "      <th>title</th>\n",
              "      <th>director</th>\n",
              "      <th>cast</th>\n",
              "      <th>country</th>\n",
              "      <th>date_added</th>\n",
              "      <th>release_year</th>\n",
              "      <th>rating</th>\n",
              "      <th>duration</th>\n",
              "      <th>listed_in</th>\n",
              "      <th>description</th>\n",
              "    </tr>\n",
              "  </thead>\n",
              "  <tbody>\n",
              "  </tbody>\n",
              "</table>\n",
              "</div>\n",
              "      <button class=\"colab-df-convert\" onclick=\"convertToInteractive('df-36fcea9e-a144-4b43-be08-3e4db892aca2')\"\n",
              "              title=\"Convert this dataframe to an interactive table.\"\n",
              "              style=\"display:none;\">\n",
              "\n",
              "  <svg xmlns=\"http://www.w3.org/2000/svg\" height=\"24px\"viewBox=\"0 0 24 24\"\n",
              "       width=\"24px\">\n",
              "    <path d=\"M0 0h24v24H0V0z\" fill=\"none\"/>\n",
              "    <path d=\"M18.56 5.44l.94 2.06.94-2.06 2.06-.94-2.06-.94-.94-2.06-.94 2.06-2.06.94zm-11 1L8.5 8.5l.94-2.06 2.06-.94-2.06-.94L8.5 2.5l-.94 2.06-2.06.94zm10 10l.94 2.06.94-2.06 2.06-.94-2.06-.94-.94-2.06-.94 2.06-2.06.94z\"/><path d=\"M17.41 7.96l-1.37-1.37c-.4-.4-.92-.59-1.43-.59-.52 0-1.04.2-1.43.59L10.3 9.45l-7.72 7.72c-.78.78-.78 2.05 0 2.83L4 21.41c.39.39.9.59 1.41.59.51 0 1.02-.2 1.41-.59l7.78-7.78 2.81-2.81c.8-.78.8-2.07 0-2.86zM5.41 20L4 18.59l7.72-7.72 1.47 1.35L5.41 20z\"/>\n",
              "  </svg>\n",
              "      </button>\n",
              "\n",
              "\n",
              "\n",
              "    <div id=\"df-e22f843c-d76d-444d-b40a-93db6ea63729\">\n",
              "      <button class=\"colab-df-quickchart\" onclick=\"quickchart('df-e22f843c-d76d-444d-b40a-93db6ea63729')\"\n",
              "              title=\"Suggest charts.\"\n",
              "              style=\"display:none;\">\n",
              "\n",
              "<svg xmlns=\"http://www.w3.org/2000/svg\" height=\"24px\"viewBox=\"0 0 24 24\"\n",
              "     width=\"24px\">\n",
              "    <g>\n",
              "        <path d=\"M19 3H5c-1.1 0-2 .9-2 2v14c0 1.1.9 2 2 2h14c1.1 0 2-.9 2-2V5c0-1.1-.9-2-2-2zM9 17H7v-7h2v7zm4 0h-2V7h2v10zm4 0h-2v-4h2v4z\"/>\n",
              "    </g>\n",
              "</svg>\n",
              "      </button>\n",
              "    </div>\n",
              "\n",
              "<style>\n",
              "  .colab-df-quickchart {\n",
              "    background-color: #E8F0FE;\n",
              "    border: none;\n",
              "    border-radius: 50%;\n",
              "    cursor: pointer;\n",
              "    display: none;\n",
              "    fill: #1967D2;\n",
              "    height: 32px;\n",
              "    padding: 0 0 0 0;\n",
              "    width: 32px;\n",
              "  }\n",
              "\n",
              "  .colab-df-quickchart:hover {\n",
              "    background-color: #E2EBFA;\n",
              "    box-shadow: 0px 1px 2px rgba(60, 64, 67, 0.3), 0px 1px 3px 1px rgba(60, 64, 67, 0.15);\n",
              "    fill: #174EA6;\n",
              "  }\n",
              "\n",
              "  [theme=dark] .colab-df-quickchart {\n",
              "    background-color: #3B4455;\n",
              "    fill: #D2E3FC;\n",
              "  }\n",
              "\n",
              "  [theme=dark] .colab-df-quickchart:hover {\n",
              "    background-color: #434B5C;\n",
              "    box-shadow: 0px 1px 3px 1px rgba(0, 0, 0, 0.15);\n",
              "    filter: drop-shadow(0px 1px 2px rgba(0, 0, 0, 0.3));\n",
              "    fill: #FFFFFF;\n",
              "  }\n",
              "</style>\n",
              "\n",
              "    <script>\n",
              "      async function quickchart(key) {\n",
              "        const containerElement = document.querySelector('#' + key);\n",
              "        const charts = await google.colab.kernel.invokeFunction(\n",
              "            'suggestCharts', [key], {});\n",
              "      }\n",
              "    </script>\n",
              "\n",
              "      <script>\n",
              "\n",
              "function displayQuickchartButton(domScope) {\n",
              "  let quickchartButtonEl =\n",
              "    domScope.querySelector('#df-e22f843c-d76d-444d-b40a-93db6ea63729 button.colab-df-quickchart');\n",
              "  quickchartButtonEl.style.display =\n",
              "    google.colab.kernel.accessAllowed ? 'block' : 'none';\n",
              "}\n",
              "\n",
              "        displayQuickchartButton(document);\n",
              "      </script>\n",
              "      <style>\n",
              "    .colab-df-container {\n",
              "      display:flex;\n",
              "      flex-wrap:wrap;\n",
              "      gap: 12px;\n",
              "    }\n",
              "\n",
              "    .colab-df-convert {\n",
              "      background-color: #E8F0FE;\n",
              "      border: none;\n",
              "      border-radius: 50%;\n",
              "      cursor: pointer;\n",
              "      display: none;\n",
              "      fill: #1967D2;\n",
              "      height: 32px;\n",
              "      padding: 0 0 0 0;\n",
              "      width: 32px;\n",
              "    }\n",
              "\n",
              "    .colab-df-convert:hover {\n",
              "      background-color: #E2EBFA;\n",
              "      box-shadow: 0px 1px 2px rgba(60, 64, 67, 0.3), 0px 1px 3px 1px rgba(60, 64, 67, 0.15);\n",
              "      fill: #174EA6;\n",
              "    }\n",
              "\n",
              "    [theme=dark] .colab-df-convert {\n",
              "      background-color: #3B4455;\n",
              "      fill: #D2E3FC;\n",
              "    }\n",
              "\n",
              "    [theme=dark] .colab-df-convert:hover {\n",
              "      background-color: #434B5C;\n",
              "      box-shadow: 0px 1px 3px 1px rgba(0, 0, 0, 0.15);\n",
              "      filter: drop-shadow(0px 1px 2px rgba(0, 0, 0, 0.3));\n",
              "      fill: #FFFFFF;\n",
              "    }\n",
              "  </style>\n",
              "\n",
              "      <script>\n",
              "        const buttonEl =\n",
              "          document.querySelector('#df-36fcea9e-a144-4b43-be08-3e4db892aca2 button.colab-df-convert');\n",
              "        buttonEl.style.display =\n",
              "          google.colab.kernel.accessAllowed ? 'block' : 'none';\n",
              "\n",
              "        async function convertToInteractive(key) {\n",
              "          const element = document.querySelector('#df-36fcea9e-a144-4b43-be08-3e4db892aca2');\n",
              "          const dataTable =\n",
              "            await google.colab.kernel.invokeFunction('convertToInteractive',\n",
              "                                                     [key], {});\n",
              "          if (!dataTable) return;\n",
              "\n",
              "          const docLinkHtml = 'Like what you see? Visit the ' +\n",
              "            '<a target=\"_blank\" href=https://colab.research.google.com/notebooks/data_table.ipynb>data table notebook</a>'\n",
              "            + ' to learn more about interactive tables.';\n",
              "          element.innerHTML = '';\n",
              "          dataTable['output_type'] = 'display_data';\n",
              "          await google.colab.output.renderOutput(dataTable, element);\n",
              "          const docLink = document.createElement('div');\n",
              "          docLink.innerHTML = docLinkHtml;\n",
              "          element.appendChild(docLink);\n",
              "        }\n",
              "      </script>\n",
              "    </div>\n",
              "  </div>\n"
            ]
          },
          "metadata": {},
          "execution_count": 11
        }
      ]
    },
    {
      "cell_type": "markdown",
      "source": [
        "### There are no duplicates"
      ],
      "metadata": {
        "id": "Tv7xsQJ2rmZS"
      }
    },
    {
      "cell_type": "markdown",
      "source": [
        "**Handling Null values**"
      ],
      "metadata": {
        "id": "zJjOwYISryJJ"
      }
    },
    {
      "cell_type": "code",
      "source": [
        "#Checking Null Values\n",
        "df.isnull().sum()"
      ],
      "metadata": {
        "id": "88M0gthzrOT-",
        "outputId": "255e6799-1dbb-4fe1-894a-427869be0182",
        "colab": {
          "base_uri": "https://localhost:8080/"
        }
      },
      "execution_count": 12,
      "outputs": [
        {
          "output_type": "execute_result",
          "data": {
            "text/plain": [
              "show_id            0\n",
              "type               0\n",
              "title              0\n",
              "director        2389\n",
              "cast             718\n",
              "country          507\n",
              "date_added        10\n",
              "release_year       0\n",
              "rating             7\n",
              "duration           0\n",
              "listed_in          0\n",
              "description        0\n",
              "dtype: int64"
            ]
          },
          "metadata": {},
          "execution_count": 12
        }
      ]
    },
    {
      "cell_type": "code",
      "source": [
        "#total null values\n",
        "df.isnull().sum().sum()"
      ],
      "metadata": {
        "id": "OeWz2r0Lr44z",
        "outputId": "a3d65eb0-62ce-45e8-a210-ad77ab5c5e22",
        "colab": {
          "base_uri": "https://localhost:8080/"
        }
      },
      "execution_count": 13,
      "outputs": [
        {
          "output_type": "execute_result",
          "data": {
            "text/plain": [
              "3631"
            ]
          },
          "metadata": {},
          "execution_count": 13
        }
      ]
    },
    {
      "cell_type": "markdown",
      "source": [
        "There are 3631 null values in the dataset, 2389 null values in director column, 718 null values in cast column ,507 null values in country column ,10 in date_added and 7 in rating. so we need to handle the null values"
      ],
      "metadata": {
        "id": "n6t1qR4nsFtB"
      }
    },
    {
      "cell_type": "code",
      "source": [
        "#Handling Null Values\n",
        "df['cast'].fillna(value='No cast',inplace=True)\n",
        "df['country'].fillna(value=df['country'].mode()[0],inplace=True)\n"
      ],
      "metadata": {
        "id": "8yOW7aMIsTWE"
      },
      "execution_count": 14,
      "outputs": []
    },
    {
      "cell_type": "code",
      "source": [
        "#'date_added' and 'rating' contains an insignificant portion of the data so we will drop them from the dataset\n",
        "df.dropna(subset=['date_added','rating'],inplace=True)"
      ],
      "metadata": {
        "id": "mP4fnQ8-sVaI"
      },
      "execution_count": 15,
      "outputs": []
    },
    {
      "cell_type": "code",
      "source": [
        "#Dropping Director Column\n",
        "df.drop(['director'],axis=1,inplace=True)"
      ],
      "metadata": {
        "id": "XGcJBhqHsgje"
      },
      "execution_count": 16,
      "outputs": []
    },
    {
      "cell_type": "code",
      "source": [
        "#again checking is there any null values are not\n",
        "df.isnull().sum()"
      ],
      "metadata": {
        "id": "6RtRIsdSsm0Y",
        "outputId": "1baef6d7-c37d-4c7b-a334-7bacd7d67ae8",
        "colab": {
          "base_uri": "https://localhost:8080/"
        }
      },
      "execution_count": 17,
      "outputs": [
        {
          "output_type": "execute_result",
          "data": {
            "text/plain": [
              "show_id         0\n",
              "type            0\n",
              "title           0\n",
              "cast            0\n",
              "country         0\n",
              "date_added      0\n",
              "release_year    0\n",
              "rating          0\n",
              "duration        0\n",
              "listed_in       0\n",
              "description     0\n",
              "dtype: int64"
            ]
          },
          "metadata": {},
          "execution_count": 17
        }
      ]
    },
    {
      "cell_type": "markdown",
      "source": [
        "# **EDA**\n"
      ],
      "metadata": {
        "id": "a0RKQdGbswNe"
      }
    },
    {
      "cell_type": "markdown",
      "source": [
        "## **1.Type**"
      ],
      "metadata": {
        "id": "50HIZ5-4qMkA"
      }
    },
    {
      "cell_type": "code",
      "source": [
        "df['type'].value_counts()"
      ],
      "metadata": {
        "id": "MnurmjyjsniP",
        "outputId": "bef32f33-32fc-4fed-a847-0ae1c629a726",
        "colab": {
          "base_uri": "https://localhost:8080/"
        }
      },
      "execution_count": 18,
      "outputs": [
        {
          "output_type": "execute_result",
          "data": {
            "text/plain": [
              "Movie      5372\n",
              "TV Show    2398\n",
              "Name: type, dtype: int64"
            ]
          },
          "metadata": {},
          "execution_count": 18
        }
      ]
    },
    {
      "cell_type": "code",
      "source": [
        "#countplot to visualize the number of movies and tv_shows in type column\n",
        "a = plt.figure(figsize=(8,6))\n",
        "a = sns.countplot(x= df['type'], data = df,palette='icefire')\n",
        "a = plt.title('Types of Video Entertainment on Netflix ')\n",
        "a = plt.xlabel('Type')\n",
        "a = plt.ylabel('Number of Shows / Movies')"
      ],
      "metadata": {
        "id": "fjgKgwxUq2sT",
        "outputId": "f313f5b2-06a8-4247-fb1d-fb43a4e87c48",
        "colab": {
          "base_uri": "https://localhost:8080/",
          "height": 564
        }
      },
      "execution_count": 27,
      "outputs": [
        {
          "output_type": "display_data",
          "data": {
            "text/plain": [
              "<Figure size 800x600 with 1 Axes>"
            ],
            "image/png": "[encoded data removed]"
          },
          "metadata": {}
        }
      ]
    },
    {
      "cell_type": "markdown",
      "source": [
        "Netflix has 5372 movies and 2398 TV shows,\n",
        "there are more   number movies on Netflix than TV shows."
      ],
      "metadata": {
        "id": "TGJYhlaA3GII"
      }
    },
    {
      "cell_type": "markdown",
      "source": [
        "**2.ratings**"
      ],
      "metadata": {
        "id": "0Ir2ePRT3OLE"
      }
    },
    {
      "cell_type": "code",
      "source": [
        "df['rating']"
      ],
      "metadata": {
        "id": "PjtX10ETq9Y9",
        "outputId": "70939c4f-f326-4996-9117-499921109a5a",
        "colab": {
          "base_uri": "https://localhost:8080/"
        }
      },
      "execution_count": 28,
      "outputs": [
        {
          "output_type": "execute_result",
          "data": {
            "text/plain": [
              "0       TV-MA\n",
              "1       TV-MA\n",
              "2           R\n",
              "3       PG-13\n",
              "4       PG-13\n",
              "        ...  \n",
              "7782    TV-MA\n",
              "7783    TV-14\n",
              "7784    TV-MA\n",
              "7785    TV-PG\n",
              "7786    TV-MA\n",
              "Name: rating, Length: 7770, dtype: object"
            ]
          },
          "metadata": {},
          "execution_count": 28
        }
      ]
    },
    {
      "cell_type": "code",
      "source": [
        "#Assigning the Ratings into grouped categories\n",
        "ratings = {\n",
        "    'TV-PG': 'Older Kids',\n",
        "    'TV-MA': 'Adults',\n",
        "    'TV-Y7-FV': 'Older Kids',\n",
        "    'TV-Y7': 'Older Kids',\n",
        "    'TV-14': 'Teens',\n",
        "    'R': 'Adults',\n",
        "    'TV-Y': 'Kids',\n",
        "    'NR': 'Adults',\n",
        "    'PG-13': 'Teens',\n",
        "    'TV-G': 'Kids',\n",
        "    'PG': 'Older Kids',\n",
        "    'G': 'Kids',\n",
        "    'UR': 'Adults',\n",
        "    'NC-17': 'Adults'\n",
        "}\n",
        "df['target_ages'] = df['rating'].replace(ratings)\n"
      ],
      "metadata": {
        "id": "NsHqAjMR3-Jx"
      },
      "execution_count": 29,
      "outputs": []
    },
    {
      "cell_type": "code",
      "source": [
        "# type should be a catego\n",
        "df['type'] = pd.Categorical(df['type'])\n",
        "df['target_ages'] = pd.Categorical(df['target_ages'], categories=['Kids', 'Older Kids', 'Teens', 'Adults'])"
      ],
      "metadata": {
        "id": "JRxPTRp43-4i"
      },
      "execution_count": 30,
      "outputs": []
    },
    {
      "cell_type": "code",
      "source": [
        "df"
      ],
      "metadata": {
        "id": "ZFxUyHAD4E-v",
        "outputId": "35d82bb3-55ba-411e-a7b8-82d84bd8efbf",
        "colab": {
          "base_uri": "https://localhost:8080/",
          "height": 1000
        }
      },
      "execution_count": 31,
      "outputs": [
        {
          "output_type": "execute_result",
          "data": {
            "text/plain": [
              "     show_id     type                                    title  \\\n",
              "0         s1  TV Show                                       3%   \n",
              "1         s2    Movie                                     7:19   \n",
              "2         s3    Movie                                    23:59   \n",
              "3         s4    Movie                                        9   \n",
              "4         s5    Movie                                       21   \n",
              "...      ...      ...                                      ...   \n",
              "7782   s7783    Movie                                     Zozo   \n",
              "7783   s7784    Movie                                   Zubaan   \n",
              "7784   s7785    Movie                        Zulu Man in Japan   \n",
              "7785   s7786  TV Show                    Zumbo's Just Desserts   \n",
              "7786   s7787    Movie  ZZ TOP: THAT LITTLE OL' BAND FROM TEXAS   \n",
              "\n",
              "                                                   cast  \\\n",
              "0     João Miguel, Bianca Comparato, Michel Gomes, R...   \n",
              "1     Demián Bichir, Héctor Bonilla, Oscar Serrano, ...   \n",
              "2     Tedd Chan, Stella Chung, Henley Hii, Lawrence ...   \n",
              "3     Elijah Wood, John C. Reilly, Jennifer Connelly...   \n",
              "4     Jim Sturgess, Kevin Spacey, Kate Bosworth, Aar...   \n",
              "...                                                 ...   \n",
              "7782  Imad Creidi, Antoinette Turk, Elias Gergi, Car...   \n",
              "7783  Vicky Kaushal, Sarah-Jane Dias, Raaghav Chanan...   \n",
              "7784                                            Nasty C   \n",
              "7785                         Adriano Zumbo, Rachel Khoo   \n",
              "7786                                            No cast   \n",
              "\n",
              "                                                country          date_added  \\\n",
              "0                                                Brazil     August 14, 2020   \n",
              "1                                                Mexico   December 23, 2016   \n",
              "2                                             Singapore   December 20, 2018   \n",
              "3                                         United States   November 16, 2017   \n",
              "4                                         United States     January 1, 2020   \n",
              "...                                                 ...                 ...   \n",
              "7782  Sweden, Czech Republic, United Kingdom, Denmar...    October 19, 2020   \n",
              "7783                                              India       March 2, 2019   \n",
              "7784                                      United States  September 25, 2020   \n",
              "7785                                          Australia    October 31, 2020   \n",
              "7786              United Kingdom, Canada, United States       March 1, 2020   \n",
              "\n",
              "      release_year rating   duration  \\\n",
              "0             2020  TV-MA  4 Seasons   \n",
              "1             2016  TV-MA     93 min   \n",
              "2             2011      R     78 min   \n",
              "3             2009  PG-13     80 min   \n",
              "4             2008  PG-13    123 min   \n",
              "...            ...    ...        ...   \n",
              "7782          2005  TV-MA     99 min   \n",
              "7783          2015  TV-14    111 min   \n",
              "7784          2019  TV-MA     44 min   \n",
              "7785          2019  TV-PG   1 Season   \n",
              "7786          2019  TV-MA     90 min   \n",
              "\n",
              "                                              listed_in  \\\n",
              "0     International TV Shows, TV Dramas, TV Sci-Fi &...   \n",
              "1                          Dramas, International Movies   \n",
              "2                   Horror Movies, International Movies   \n",
              "3     Action & Adventure, Independent Movies, Sci-Fi...   \n",
              "4                                                Dramas   \n",
              "...                                                 ...   \n",
              "7782                       Dramas, International Movies   \n",
              "7783     Dramas, International Movies, Music & Musicals   \n",
              "7784  Documentaries, International Movies, Music & M...   \n",
              "7785                 International TV Shows, Reality TV   \n",
              "7786                    Documentaries, Music & Musicals   \n",
              "\n",
              "                                            description target_ages  \n",
              "0     In a future where the elite inhabit an island ...      Adults  \n",
              "1     After a devastating earthquake hits Mexico Cit...      Adults  \n",
              "2     When an army recruit is found dead, his fellow...      Adults  \n",
              "3     In a postapocalyptic world, rag-doll robots hi...       Teens  \n",
              "4     A brilliant group of students become card-coun...       Teens  \n",
              "...                                                 ...         ...  \n",
              "7782  When Lebanon's Civil War deprives Zozo of his ...      Adults  \n",
              "7783  A scrappy but poor boy worms his way into a ty...       Teens  \n",
              "7784  In this documentary, South African rapper Nast...      Adults  \n",
              "7785  Dessert wizard Adriano Zumbo looks for the nex...  Older Kids  \n",
              "7786  This documentary delves into the mystique behi...      Adults  \n",
              "\n",
              "[7770 rows x 12 columns]"
            ],
            "text/html": [
              "\n",
              "\n",
              "  <div id=\"df-ca1efe9b-5886-4f00-bc6b-d29ad48e56e6\">\n",
              "    <div class=\"colab-df-container\">\n",
              "      <div>\n",
              "<style scoped>\n",
              "    .dataframe tbody tr th:only-of-type {\n",
              "        vertical-align: middle;\n",
              "    }\n",
              "\n",
              "    .dataframe tbody tr th {\n",
              "        vertical-align: top;\n",
              "    }\n",
              "\n",
              "    .dataframe thead th {\n",
              "        text-align: right;\n",
              "    }\n",
              "</style>\n",
              "<table border=\"1\" class=\"dataframe\">\n",
              "  <thead>\n",
              "    <tr style=\"text-align: right;\">\n",
              "      <th></th>\n",
              "      <th>show_id</th>\n",
              "      <th>type</th>\n",
              "      <th>title</th>\n",
              "      <th>cast</th>\n",
              "      <th>country</th>\n",
              "      <th>date_added</th>\n",
              "      <th>release_year</th>\n",
              "      <th>rating</th>\n",
              "      <th>duration</th>\n",
              "      <th>listed_in</th>\n",
              "      <th>description</th>\n",
              "      <th>target_ages</th>\n",
              "    </tr>\n",
              "  </thead>\n",
              "  <tbody>\n",
              "    <tr>\n",
              "      <th>0</th>\n",
              "      <td>s1</td>\n",
              "      <td>TV Show</td>\n",
              "      <td>3%</td>\n",
              "      <td>João Miguel, Bianca Comparato, Michel Gomes, R...</td>\n",
              "      <td>Brazil</td>\n",
              "      <td>August 14, 2020</td>\n",
              "      <td>2020</td>\n",
              "      <td>TV-MA</td>\n",
              "      <td>4 Seasons</td>\n",
              "      <td>International TV Shows, TV Dramas, TV Sci-Fi &amp;...</td>\n",
              "      <td>In a future where the elite inhabit an island ...</td>\n",
              "      <td>Adults</td>\n",
              "    </tr>\n",
              "    <tr>\n",
              "      <th>1</th>\n",
              "      <td>s2</td>\n",
              "      <td>Movie</td>\n",
              "      <td>7:19</td>\n",
              "      <td>Demián Bichir, Héctor Bonilla, Oscar Serrano, ...</td>\n",
              "      <td>Mexico</td>\n",
              "      <td>December 23, 2016</td>\n",
              "      <td>2016</td>\n",
              "      <td>TV-MA</td>\n",
              "      <td>93 min</td>\n",
              "      <td>Dramas, International Movies</td>\n",
              "      <td>After a devastating earthquake hits Mexico Cit...</td>\n",
              "      <td>Adults</td>\n",
              "    </tr>\n",
              "    <tr>\n",
              "      <th>2</th>\n",
              "      <td>s3</td>\n",
              "      <td>Movie</td>\n",
              "      <td>23:59</td>\n",
              "      <td>Tedd Chan, Stella Chung, Henley Hii, Lawrence ...</td>\n",
              "      <td>Singapore</td>\n",
              "      <td>December 20, 2018</td>\n",
              "      <td>2011</td>\n",
              "      <td>R</td>\n",
              "      <td>78 min</td>\n",
              "      <td>Horror Movies, International Movies</td>\n",
              "      <td>When an army recruit is found dead, his fellow...</td>\n",
              "      <td>Adults</td>\n",
              "    </tr>\n",
              "    <tr>\n",
              "      <th>3</th>\n",
              "      <td>s4</td>\n",
              "      <td>Movie</td>\n",
              "      <td>9</td>\n",
              "      <td>Elijah Wood, John C. Reilly, Jennifer Connelly...</td>\n",
              "      <td>United States</td>\n",
              "      <td>November 16, 2017</td>\n",
              "      <td>2009</td>\n",
              "      <td>PG-13</td>\n",
              "      <td>80 min</td>\n",
              "      <td>Action &amp; Adventure, Independent Movies, Sci-Fi...</td>\n",
              "      <td>In a postapocalyptic world, rag-doll robots hi...</td>\n",
              "      <td>Teens</td>\n",
              "    </tr>\n",
              "    <tr>\n",
              "      <th>4</th>\n",
              "      <td>s5</td>\n",
              "      <td>Movie</td>\n",
              "      <td>21</td>\n",
              "      <td>Jim Sturgess, Kevin Spacey, Kate Bosworth, Aar...</td>\n",
              "      <td>United States</td>\n",
              "      <td>January 1, 2020</td>\n",
              "      <td>2008</td>\n",
              "      <td>PG-13</td>\n",
              "      <td>123 min</td>\n",
              "      <td>Dramas</td>\n",
              "      <td>A brilliant group of students become card-coun...</td>\n",
              "      <td>Teens</td>\n",
              "    </tr>\n",
              "    <tr>\n",
              "      <th>...</th>\n",
              "      <td>...</td>\n",
              "      <td>...</td>\n",
              "      <td>...</td>\n",
              "      <td>...</td>\n",
              "      <td>...</td>\n",
              "      <td>...</td>\n",
              "      <td>...</td>\n",
              "      <td>...</td>\n",
              "      <td>...</td>\n",
              "      <td>...</td>\n",
              "      <td>...</td>\n",
              "      <td>...</td>\n",
              "    </tr>\n",
              "    <tr>\n",
              "      <th>7782</th>\n",
              "      <td>s7783</td>\n",
              "      <td>Movie</td>\n",
              "      <td>Zozo</td>\n",
              "      <td>Imad Creidi, Antoinette Turk, Elias Gergi, Car...</td>\n",
              "      <td>Sweden, Czech Republic, United Kingdom, Denmar...</td>\n",
              "      <td>October 19, 2020</td>\n",
              "      <td>2005</td>\n",
              "      <td>TV-MA</td>\n",
              "      <td>99 min</td>\n",
              "      <td>Dramas, International Movies</td>\n",
              "      <td>When Lebanon's Civil War deprives Zozo of his ...</td>\n",
              "      <td>Adults</td>\n",
              "    </tr>\n",
              "    <tr>\n",
              "      <th>7783</th>\n",
              "      <td>s7784</td>\n",
              "      <td>Movie</td>\n",
              "      <td>Zubaan</td>\n",
              "      <td>Vicky Kaushal, Sarah-Jane Dias, Raaghav Chanan...</td>\n",
              "      <td>India</td>\n",
              "      <td>March 2, 2019</td>\n",
              "      <td>2015</td>\n",
              "      <td>TV-14</td>\n",
              "      <td>111 min</td>\n",
              "      <td>Dramas, International Movies, Music &amp; Musicals</td>\n",
              "      <td>A scrappy but poor boy worms his way into a ty...</td>\n",
              "      <td>Teens</td>\n",
              "    </tr>\n",
              "    <tr>\n",
              "      <th>7784</th>\n",
              "      <td>s7785</td>\n",
              "      <td>Movie</td>\n",
              "      <td>Zulu Man in Japan</td>\n",
              "      <td>Nasty C</td>\n",
              "      <td>United States</td>\n",
              "      <td>September 25, 2020</td>\n",
              "      <td>2019</td>\n",
              "      <td>TV-MA</td>\n",
              "      <td>44 min</td>\n",
              "      <td>Documentaries, International Movies, Music &amp; M...</td>\n",
              "      <td>In this documentary, South African rapper Nast...</td>\n",
              "      <td>Adults</td>\n",
              "    </tr>\n",
              "    <tr>\n",
              "      <th>7785</th>\n",
              "      <td>s7786</td>\n",
              "      <td>TV Show</td>\n",
              "      <td>Zumbo's Just Desserts</td>\n",
              "      <td>Adriano Zumbo, Rachel Khoo</td>\n",
              "      <td>Australia</td>\n",
              "      <td>October 31, 2020</td>\n",
              "      <td>2019</td>\n",
              "      <td>TV-PG</td>\n",
              "      <td>1 Season</td>\n",
              "      <td>International TV Shows, Reality TV</td>\n",
              "      <td>Dessert wizard Adriano Zumbo looks for the nex...</td>\n",
              "      <td>Older Kids</td>\n",
              "    </tr>\n",
              "    <tr>\n",
              "      <th>7786</th>\n",
              "      <td>s7787</td>\n",
              "      <td>Movie</td>\n",
              "      <td>ZZ TOP: THAT LITTLE OL' BAND FROM TEXAS</td>\n",
              "      <td>No cast</td>\n",
              "      <td>United Kingdom, Canada, United States</td>\n",
              "      <td>March 1, 2020</td>\n",
              "      <td>2019</td>\n",
              "      <td>TV-MA</td>\n",
              "      <td>90 min</td>\n",
              "      <td>Documentaries, Music &amp; Musicals</td>\n",
              "      <td>This documentary delves into the mystique behi...</td>\n",
              "      <td>Adults</td>\n",
              "    </tr>\n",
              "  </tbody>\n",
              "</table>\n",
              "<p>7770 rows × 12 columns</p>\n",
              "</div>\n",
              "      <button class=\"colab-df-convert\" onclick=\"convertToInteractive('df-ca1efe9b-5886-4f00-bc6b-d29ad48e56e6')\"\n",
              "              title=\"Convert this dataframe to an interactive table.\"\n",
              "              style=\"display:none;\">\n",
              "\n",
              "  <svg xmlns=\"http://www.w3.org/2000/svg\" height=\"24px\"viewBox=\"0 0 24 24\"\n",
              "       width=\"24px\">\n",
              "    <path d=\"M0 0h24v24H0V0z\" fill=\"none\"/>\n",
              "    <path d=\"M18.56 5.44l.94 2.06.94-2.06 2.06-.94-2.06-.94-.94-2.06-.94 2.06-2.06.94zm-11 1L8.5 8.5l.94-2.06 2.06-.94-2.06-.94L8.5 2.5l-.94 2.06-2.06.94zm10 10l.94 2.06.94-2.06 2.06-.94-2.06-.94-.94-2.06-.94 2.06-2.06.94z\"/><path d=\"M17.41 7.96l-1.37-1.37c-.4-.4-.92-.59-1.43-.59-.52 0-1.04.2-1.43.59L10.3 9.45l-7.72 7.72c-.78.78-.78 2.05 0 2.83L4 21.41c.39.39.9.59 1.41.59.51 0 1.02-.2 1.41-.59l7.78-7.78 2.81-2.81c.8-.78.8-2.07 0-2.86zM5.41 20L4 18.59l7.72-7.72 1.47 1.35L5.41 20z\"/>\n",
              "  </svg>\n",
              "      </button>\n",
              "\n",
              "\n",
              "\n",
              "    <div id=\"df-a20ae528-3718-4098-aba0-df74e939f647\">\n",
              "      <button class=\"colab-df-quickchart\" onclick=\"quickchart('df-a20ae528-3718-4098-aba0-df74e939f647')\"\n",
              "              title=\"Suggest charts.\"\n",
              "              style=\"display:none;\">\n",
              "\n",
              "<svg xmlns=\"http://www.w3.org/2000/svg\" height=\"24px\"viewBox=\"0 0 24 24\"\n",
              "     width=\"24px\">\n",
              "    <g>\n",
              "        <path d=\"M19 3H5c-1.1 0-2 .9-2 2v14c0 1.1.9 2 2 2h14c1.1 0 2-.9 2-2V5c0-1.1-.9-2-2-2zM9 17H7v-7h2v7zm4 0h-2V7h2v10zm4 0h-2v-4h2v4z\"/>\n",
              "    </g>\n",
              "</svg>\n",
              "      </button>\n",
              "    </div>\n",
              "\n",
              "<style>\n",
              "  .colab-df-quickchart {\n",
              "    background-color: #E8F0FE;\n",
              "    border: none;\n",
              "    border-radius: 50%;\n",
              "    cursor: pointer;\n",
              "    display: none;\n",
              "    fill: #1967D2;\n",
              "    height: 32px;\n",
              "    padding: 0 0 0 0;\n",
              "    width: 32px;\n",
              "  }\n",
              "\n",
              "  .colab-df-quickchart:hover {\n",
              "    background-color: #E2EBFA;\n",
              "    box-shadow: 0px 1px 2px rgba(60, 64, 67, 0.3), 0px 1px 3px 1px rgba(60, 64, 67, 0.15);\n",
              "    fill: #174EA6;\n",
              "  }\n",
              "\n",
              "  [theme=dark] .colab-df-quickchart {\n",
              "    background-color: #3B4455;\n",
              "    fill: #D2E3FC;\n",
              "  }\n",
              "\n",
              "  [theme=dark] .colab-df-quickchart:hover {\n",
              "    background-color: #434B5C;\n",
              "    box-shadow: 0px 1px 3px 1px rgba(0, 0, 0, 0.15);\n",
              "    filter: drop-shadow(0px 1px 2px rgba(0, 0, 0, 0.3));\n",
              "    fill: #FFFFFF;\n",
              "  }\n",
              "</style>\n",
              "\n",
              "    <script>\n",
              "      async function quickchart(key) {\n",
              "        const containerElement = document.querySelector('#' + key);\n",
              "        const charts = await google.colab.kernel.invokeFunction(\n",
              "            'suggestCharts', [key], {});\n",
              "      }\n",
              "    </script>\n",
              "\n",
              "      <script>\n",
              "\n",
              "function displayQuickchartButton(domScope) {\n",
              "  let quickchartButtonEl =\n",
              "    domScope.querySelector('#df-a20ae528-3718-4098-aba0-df74e939f647 button.colab-df-quickchart');\n",
              "  quickchartButtonEl.style.display =\n",
              "    google.colab.kernel.accessAllowed ? 'block' : 'none';\n",
              "}\n",
              "\n",
              "        displayQuickchartButton(document);\n",
              "      </script>\n",
              "      <style>\n",
              "    .colab-df-container {\n",
              "      display:flex;\n",
              "      flex-wrap:wrap;\n",
              "      gap: 12px;\n",
              "    }\n",
              "\n",
              "    .colab-df-convert {\n",
              "      background-color: #E8F0FE;\n",
              "      border: none;\n",
              "      border-radius: 50%;\n",
              "      cursor: pointer;\n",
              "      display: none;\n",
              "      fill: #1967D2;\n",
              "      height: 32px;\n",
              "      padding: 0 0 0 0;\n",
              "      width: 32px;\n",
              "    }\n",
              "\n",
              "    .colab-df-convert:hover {\n",
              "      background-color: #E2EBFA;\n",
              "      box-shadow: 0px 1px 2px rgba(60, 64, 67, 0.3), 0px 1px 3px 1px rgba(60, 64, 67, 0.15);\n",
              "      fill: #174EA6;\n",
              "    }\n",
              "\n",
              "    [theme=dark] .colab-df-convert {\n",
              "      background-color: #3B4455;\n",
              "      fill: #D2E3FC;\n",
              "    }\n",
              "\n",
              "    [theme=dark] .colab-df-convert:hover {\n",
              "      background-color: #434B5C;\n",
              "      box-shadow: 0px 1px 3px 1px rgba(0, 0, 0, 0.15);\n",
              "      filter: drop-shadow(0px 1px 2px rgba(0, 0, 0, 0.3));\n",
              "      fill: #FFFFFF;\n",
              "    }\n",
              "  </style>\n",
              "\n",
              "      <script>\n",
              "        const buttonEl =\n",
              "          document.querySelector('#df-ca1efe9b-5886-4f00-bc6b-d29ad48e56e6 button.colab-df-convert');\n",
              "        buttonEl.style.display =\n",
              "          google.colab.kernel.accessAllowed ? 'block' : 'none';\n",
              "\n",
              "        async function convertToInteractive(key) {\n",
              "          const element = document.querySelector('#df-ca1efe9b-5886-4f00-bc6b-d29ad48e56e6');\n",
              "          const dataTable =\n",
              "            await google.colab.kernel.invokeFunction('convertToInteractive',\n",
              "                                                     [key], {});\n",
              "          if (!dataTable) return;\n",
              "\n",
              "          const docLinkHtml = 'Like what you see? Visit the ' +\n",
              "            '<a target=\"_blank\" href=https://colab.research.google.com/notebooks/data_table.ipynb>data table notebook</a>'\n",
              "            + ' to learn more about interactive tables.';\n",
              "          element.innerHTML = '';\n",
              "          dataTable['output_type'] = 'display_data';\n",
              "          await google.colab.output.renderOutput(dataTable, element);\n",
              "          const docLink = document.createElement('div');\n",
              "          docLink.innerHTML = docLinkHtml;\n",
              "          element.appendChild(docLink);\n",
              "        }\n",
              "      </script>\n",
              "    </div>\n",
              "  </div>\n"
            ]
          },
          "metadata": {},
          "execution_count": 31
        }
      ]
    },
    {
      "cell_type": "code",
      "source": [
        "#creating two extra columns\n",
        "tv_shows=df[df['type']=='TV Show']\n",
        "movies=df[df['type']=='Movie']"
      ],
      "metadata": {
        "id": "GplfpNMa4K_8"
      },
      "execution_count": 32,
      "outputs": []
    },
    {
      "cell_type": "code",
      "source": [
        "#Rating based on rating system of all TV Shows\n",
        "tv_ratings = tv_shows.groupby(['rating'])['show_id'].count().reset_index(name='count').sort_values(by='count',ascending=False)\n",
        "fig_dims = (14,7)\n",
        "fig, ax = plt.subplots(figsize=fig_dims)\n",
        "sns.pointplot(x='rating',y='count',data=tv_ratings)\n",
        "plt.title('TV Show Ratings',size='20')\n",
        "plt.show()"
      ],
      "metadata": {
        "id": "ycaa77YP4R1E",
        "outputId": "28348630-b8f3-4b2a-a81b-dfba27138ef0",
        "colab": {
          "base_uri": "https://localhost:8080/",
          "height": 623
        }
      },
      "execution_count": 33,
      "outputs": [
        {
          "output_type": "display_data",
          "data": {
            "text/plain": [
              "<Figure size 1400x700 with 1 Axes>"
            ],
            "image/png": "[encoded data removed]"
          },
          "metadata": {}
        }
      ]
    },
    {
      "cell_type": "markdown",
      "source": [
        "TV-MA has the highest number of ratings for tv shows i,e adult ratings\n"
      ],
      "metadata": {
        "id": "4WC-mBgw4gXI"
      }
    },
    {
      "cell_type": "code",
      "source": [
        "#Movie Ratings based on Target Age Groups\n",
        "plt.figure(figsize=(10,6))\n",
        "plt.title('movie ratings')\n",
        "sns.countplot(x=movies['rating'],hue=movies['target_ages'],data=movies,order=movies['rating'].value_counts().index)"
      ],
      "metadata": {
        "id": "gigXWdbj4WFs",
        "outputId": "6ae30259-4ee0-44c2-df8e-3e79c6f52f1a",
        "colab": {
          "base_uri": "https://localhost:8080/",
          "height": 582
        }
      },
      "execution_count": 35,
      "outputs": [
        {
          "output_type": "execute_result",
          "data": {
            "text/plain": [
              "<Axes: title={'center': 'movie ratings'}, xlabel='rating', ylabel='count'>"
            ]
          },
          "metadata": {},
          "execution_count": 35
        },
        {
          "output_type": "display_data",
          "data": {
            "text/plain": [
              "<Figure size 1000x600 with 1 Axes>"
            ],
            "image/png": "[encoded data removed]"
          },
          "metadata": {}
        }
      ]
    },
    {
      "cell_type": "markdown",
      "source": [
        "TV-MA has the highest number of ratings for tv shows i,e adult ratings\n",
        "in both the cases TV-MA has the highest number of ratings"
      ],
      "metadata": {
        "id": "2EjwBeZw401f"
      }
    },
    {
      "cell_type": "markdown",
      "source": [
        "**3.Release_year**\n"
      ],
      "metadata": {
        "id": "x7D6Jfez49Kc"
      }
    },
    {
      "cell_type": "code",
      "source": [
        "movies_year =movies['release_year'].value_counts().sort_index(ascending=False)\n"
      ],
      "metadata": {
        "id": "Ggyip7rK4pCf"
      },
      "execution_count": 36,
      "outputs": []
    },
    {
      "cell_type": "code",
      "source": [
        "movies_year"
      ],
      "metadata": {
        "id": "_bSG5CiU5HeS",
        "outputId": "6694d3f0-f1b9-4bdb-dfe7-923445a6afc1",
        "colab": {
          "base_uri": "https://localhost:8080/"
        }
      },
      "execution_count": 37,
      "outputs": [
        {
          "output_type": "execute_result",
          "data": {
            "text/plain": [
              "2021     12\n",
              "2020    411\n",
              "2019    582\n",
              "2018    734\n",
              "2017    742\n",
              "       ... \n",
              "1946      1\n",
              "1945      3\n",
              "1944      3\n",
              "1943      3\n",
              "1942      2\n",
              "Name: release_year, Length: 72, dtype: int64"
            ]
          },
          "metadata": {},
          "execution_count": 37
        }
      ]
    },
    {
      "cell_type": "code",
      "source": [
        "tvshows_year =tv_shows['release_year'].value_counts().sort_index(ascending=False)\n"
      ],
      "metadata": {
        "id": "EVSi75hX5Nia"
      },
      "execution_count": 38,
      "outputs": []
    },
    {
      "cell_type": "code",
      "source": [
        "# visualizing the movies and tv_shows based on the release year\n",
        "sns.set(font_scale=1.4)\n",
        "movies_year.plot(figsize=(10, 6), linewidth=2.5, color='maroon',label=\"Movies / year\",ms=3)\n",
        "tvshows_year.plot(figsize=(10, 6), linewidth=2.5, color='blue',label=\"TV Shows / year\")\n",
        "plt.xlabel(\"Years\", labelpad=15)\n",
        "plt.ylabel(\"Number\", labelpad=15)\n",
        "plt.title(\"Production growth yearly\", y=1.02, fontsize=22);"
      ],
      "metadata": {
        "id": "qVIqNzD95UFk",
        "outputId": "d2ce5887-f60d-4f78-8ce7-b4d1ec3a08a6",
        "colab": {
          "base_uri": "https://localhost:8080/",
          "height": 616
        }
      },
      "execution_count": 40,
      "outputs": [
        {
          "output_type": "display_data",
          "data": {
            "text/plain": [
              "<Figure size 1000x600 with 1 Axes>"
            ],
            "image/png": "[encoded data removed]"
          },
          "metadata": {}
        }
      ]
    },
    {
      "cell_type": "code",
      "source": [
        "#Analysing how many movies released per year in last 20 years\n",
        "plt.figure(figsize=(15,5))\n",
        "sns.countplot(y=movies['release_year'],data=df,order=movies['release_year'].value_counts().index[0:20])\n"
      ],
      "metadata": {
        "id": "n7gnxZlF5iTN",
        "outputId": "8da65446-bd05-4003-e62e-4de9d04def7f",
        "colab": {
          "base_uri": "https://localhost:8080/",
          "height": 444
        }
      },
      "execution_count": 41,
      "outputs": [
        {
          "output_type": "execute_result",
          "data": {
            "text/plain": [
              "<Axes: xlabel='count', ylabel='release_year'>"
            ]
          },
          "metadata": {},
          "execution_count": 41
        },
        {
          "output_type": "display_data",
          "data": {
            "text/plain": [
              "<Figure size 1500x500 with 1 Axes>"
            ],
            "image/png": "[encoded data removed]"
          },
          "metadata": {}
        }
      ]
    },
    {
      "cell_type": "markdown",
      "source": [
        "highest number of movies released in 2017 and 2018"
      ],
      "metadata": {
        "id": "iH6aIHjn51hK"
      }
    },
    {
      "cell_type": "code",
      "source": [
        "tvshows_year"
      ],
      "metadata": {
        "id": "0MUjxAGX57bk",
        "outputId": "b651a664-9bf2-49f1-dd47-a1135295b31c",
        "colab": {
          "base_uri": "https://localhost:8080/"
        }
      },
      "execution_count": 42,
      "outputs": [
        {
          "output_type": "execute_result",
          "data": {
            "text/plain": [
              "2021     19\n",
              "2020    457\n",
              "2019    414\n",
              "2018    386\n",
              "2017    268\n",
              "2016    239\n",
              "2015    156\n",
              "2014     90\n",
              "2013     63\n",
              "2012     60\n",
              "2011     39\n",
              "2010     36\n",
              "2009     34\n",
              "2008     22\n",
              "2007     13\n",
              "2006     13\n",
              "2005     12\n",
              "2004      9\n",
              "2003      7\n",
              "2002      6\n",
              "2001      4\n",
              "2000      4\n",
              "1999      7\n",
              "1998      4\n",
              "1997      4\n",
              "1996      3\n",
              "1995      2\n",
              "1994      1\n",
              "1993      4\n",
              "1992      2\n",
              "1991      1\n",
              "1990      3\n",
              "1989      1\n",
              "1988      2\n",
              "1986      2\n",
              "1985      1\n",
              "1981      1\n",
              "1979      1\n",
              "1977      1\n",
              "1974      1\n",
              "1972      1\n",
              "1968      1\n",
              "1967      1\n",
              "1963      1\n",
              "1946      1\n",
              "1925      1\n",
              "Name: release_year, dtype: int64"
            ]
          },
          "metadata": {},
          "execution_count": 42
        }
      ]
    },
    {
      "cell_type": "code",
      "source": [
        "#Analysing how many movies released per year in last 15 years\n",
        "plt.figure(figsize=(10,5))\n",
        "sns.countplot(y=tv_shows['release_year'],data=df,order=tv_shows['release_year'].value_counts().index[0:20])"
      ],
      "metadata": {
        "id": "kv1wch1U58GV",
        "outputId": "99ecdf5a-df1c-402a-9cea-2758e9cd1e4e",
        "colab": {
          "base_uri": "https://localhost:8080/",
          "height": 501
        }
      },
      "execution_count": 43,
      "outputs": [
        {
          "output_type": "execute_result",
          "data": {
            "text/plain": [
              "<Axes: xlabel='count', ylabel='release_year'>"
            ]
          },
          "metadata": {},
          "execution_count": 43
        },
        {
          "output_type": "display_data",
          "data": {
            "text/plain": [
              "<Figure size 1000x500 with 1 Axes>"
            ],
            "image/png": "[encoded data removed]"
          },
          "metadata": {}
        }
      ]
    },
    {
      "cell_type": "markdown",
      "source": [
        "*  highest number of movies released in 2017 and 2018\n",
        "*   highest number of movies released in 2020\n",
        "*  The number of movies on Netflix is growing significantly faster than the number of TV shows.\n",
        "*   We saw a huge increase in the number of movies and television episodes after 2015.\n",
        "*    there is a significant drop in the number of movies and television episodes produced after 2020.\n",
        "*   It appears that Netflix has focused more attention on increasing Movie content that TV Shows. Movies have increased much more dramatically than TV shows.\n",
        "\n"
      ],
      "metadata": {
        "id": "-1sj52k36OwG"
      }
    },
    {
      "cell_type": "code",
      "source": [
        "df"
      ],
      "metadata": {
        "id": "kgD5rFRk6JOt",
        "outputId": "2f026137-e069-4a79-fbf8-746f4d9b3838",
        "colab": {
          "base_uri": "https://localhost:8080/",
          "height": 1000
        }
      },
      "execution_count": 44,
      "outputs": [
        {
          "output_type": "execute_result",
          "data": {
            "text/plain": [
              "     show_id     type                                    title  \\\n",
              "0         s1  TV Show                                       3%   \n",
              "1         s2    Movie                                     7:19   \n",
              "2         s3    Movie                                    23:59   \n",
              "3         s4    Movie                                        9   \n",
              "4         s5    Movie                                       21   \n",
              "...      ...      ...                                      ...   \n",
              "7782   s7783    Movie                                     Zozo   \n",
              "7783   s7784    Movie                                   Zubaan   \n",
              "7784   s7785    Movie                        Zulu Man in Japan   \n",
              "7785   s7786  TV Show                    Zumbo's Just Desserts   \n",
              "7786   s7787    Movie  ZZ TOP: THAT LITTLE OL' BAND FROM TEXAS   \n",
              "\n",
              "                                                   cast  \\\n",
              "0     João Miguel, Bianca Comparato, Michel Gomes, R...   \n",
              "1     Demián Bichir, Héctor Bonilla, Oscar Serrano, ...   \n",
              "2     Tedd Chan, Stella Chung, Henley Hii, Lawrence ...   \n",
              "3     Elijah Wood, John C. Reilly, Jennifer Connelly...   \n",
              "4     Jim Sturgess, Kevin Spacey, Kate Bosworth, Aar...   \n",
              "...                                                 ...   \n",
              "7782  Imad Creidi, Antoinette Turk, Elias Gergi, Car...   \n",
              "7783  Vicky Kaushal, Sarah-Jane Dias, Raaghav Chanan...   \n",
              "7784                                            Nasty C   \n",
              "7785                         Adriano Zumbo, Rachel Khoo   \n",
              "7786                                            No cast   \n",
              "\n",
              "                                                country          date_added  \\\n",
              "0                                                Brazil     August 14, 2020   \n",
              "1                                                Mexico   December 23, 2016   \n",
              "2                                             Singapore   December 20, 2018   \n",
              "3                                         United States   November 16, 2017   \n",
              "4                                         United States     January 1, 2020   \n",
              "...                                                 ...                 ...   \n",
              "7782  Sweden, Czech Republic, United Kingdom, Denmar...    October 19, 2020   \n",
              "7783                                              India       March 2, 2019   \n",
              "7784                                      United States  September 25, 2020   \n",
              "7785                                          Australia    October 31, 2020   \n",
              "7786              United Kingdom, Canada, United States       March 1, 2020   \n",
              "\n",
              "      release_year rating   duration  \\\n",
              "0             2020  TV-MA  4 Seasons   \n",
              "1             2016  TV-MA     93 min   \n",
              "2             2011      R     78 min   \n",
              "3             2009  PG-13     80 min   \n",
              "4             2008  PG-13    123 min   \n",
              "...            ...    ...        ...   \n",
              "7782          2005  TV-MA     99 min   \n",
              "7783          2015  TV-14    111 min   \n",
              "7784          2019  TV-MA     44 min   \n",
              "7785          2019  TV-PG   1 Season   \n",
              "7786          2019  TV-MA     90 min   \n",
              "\n",
              "                                              listed_in  \\\n",
              "0     International TV Shows, TV Dramas, TV Sci-Fi &...   \n",
              "1                          Dramas, International Movies   \n",
              "2                   Horror Movies, International Movies   \n",
              "3     Action & Adventure, Independent Movies, Sci-Fi...   \n",
              "4                                                Dramas   \n",
              "...                                                 ...   \n",
              "7782                       Dramas, International Movies   \n",
              "7783     Dramas, International Movies, Music & Musicals   \n",
              "7784  Documentaries, International Movies, Music & M...   \n",
              "7785                 International TV Shows, Reality TV   \n",
              "7786                    Documentaries, Music & Musicals   \n",
              "\n",
              "                                            description target_ages  \n",
              "0     In a future where the elite inhabit an island ...      Adults  \n",
              "1     After a devastating earthquake hits Mexico Cit...      Adults  \n",
              "2     When an army recruit is found dead, his fellow...      Adults  \n",
              "3     In a postapocalyptic world, rag-doll robots hi...       Teens  \n",
              "4     A brilliant group of students become card-coun...       Teens  \n",
              "...                                                 ...         ...  \n",
              "7782  When Lebanon's Civil War deprives Zozo of his ...      Adults  \n",
              "7783  A scrappy but poor boy worms his way into a ty...       Teens  \n",
              "7784  In this documentary, South African rapper Nast...      Adults  \n",
              "7785  Dessert wizard Adriano Zumbo looks for the nex...  Older Kids  \n",
              "7786  This documentary delves into the mystique behi...      Adults  \n",
              "\n",
              "[7770 rows x 12 columns]"
            ],
            "text/html": [
              "\n",
              "\n",
              "  <div id=\"df-bfc8a66c-1130-44b9-a070-c0ce3c44c48d\">\n",
              "    <div class=\"colab-df-container\">\n",
              "      <div>\n",
              "<style scoped>\n",
              "    .dataframe tbody tr th:only-of-type {\n",
              "        vertical-align: middle;\n",
              "    }\n",
              "\n",
              "    .dataframe tbody tr th {\n",
              "        vertical-align: top;\n",
              "    }\n",
              "\n",
              "    .dataframe thead th {\n",
              "        text-align: right;\n",
              "    }\n",
              "</style>\n",
              "<table border=\"1\" class=\"dataframe\">\n",
              "  <thead>\n",
              "    <tr style=\"text-align: right;\">\n",
              "      <th></th>\n",
              "      <th>show_id</th>\n",
              "      <th>type</th>\n",
              "      <th>title</th>\n",
              "      <th>cast</th>\n",
              "      <th>country</th>\n",
              "      <th>date_added</th>\n",
              "      <th>release_year</th>\n",
              "      <th>rating</th>\n",
              "      <th>duration</th>\n",
              "      <th>listed_in</th>\n",
              "      <th>description</th>\n",
              "      <th>target_ages</th>\n",
              "    </tr>\n",
              "  </thead>\n",
              "  <tbody>\n",
              "    <tr>\n",
              "      <th>0</th>\n",
              "      <td>s1</td>\n",
              "      <td>TV Show</td>\n",
              "      <td>3%</td>\n",
              "      <td>João Miguel, Bianca Comparato, Michel Gomes, R...</td>\n",
              "      <td>Brazil</td>\n",
              "      <td>August 14, 2020</td>\n",
              "      <td>2020</td>\n",
              "      <td>TV-MA</td>\n",
              "      <td>4 Seasons</td>\n",
              "      <td>International TV Shows, TV Dramas, TV Sci-Fi &amp;...</td>\n",
              "      <td>In a future where the elite inhabit an island ...</td>\n",
              "      <td>Adults</td>\n",
              "    </tr>\n",
              "    <tr>\n",
              "      <th>1</th>\n",
              "      <td>s2</td>\n",
              "      <td>Movie</td>\n",
              "      <td>7:19</td>\n",
              "      <td>Demián Bichir, Héctor Bonilla, Oscar Serrano, ...</td>\n",
              "      <td>Mexico</td>\n",
              "      <td>December 23, 2016</td>\n",
              "      <td>2016</td>\n",
              "      <td>TV-MA</td>\n",
              "      <td>93 min</td>\n",
              "      <td>Dramas, International Movies</td>\n",
              "      <td>After a devastating earthquake hits Mexico Cit...</td>\n",
              "      <td>Adults</td>\n",
              "    </tr>\n",
              "    <tr>\n",
              "      <th>2</th>\n",
              "      <td>s3</td>\n",
              "      <td>Movie</td>\n",
              "      <td>23:59</td>\n",
              "      <td>Tedd Chan, Stella Chung, Henley Hii, Lawrence ...</td>\n",
              "      <td>Singapore</td>\n",
              "      <td>December 20, 2018</td>\n",
              "      <td>2011</td>\n",
              "      <td>R</td>\n",
              "      <td>78 min</td>\n",
              "      <td>Horror Movies, International Movies</td>\n",
              "      <td>When an army recruit is found dead, his fellow...</td>\n",
              "      <td>Adults</td>\n",
              "    </tr>\n",
              "    <tr>\n",
              "      <th>3</th>\n",
              "      <td>s4</td>\n",
              "      <td>Movie</td>\n",
              "      <td>9</td>\n",
              "      <td>Elijah Wood, John C. Reilly, Jennifer Connelly...</td>\n",
              "      <td>United States</td>\n",
              "      <td>November 16, 2017</td>\n",
              "      <td>2009</td>\n",
              "      <td>PG-13</td>\n",
              "      <td>80 min</td>\n",
              "      <td>Action &amp; Adventure, Independent Movies, Sci-Fi...</td>\n",
              "      <td>In a postapocalyptic world, rag-doll robots hi...</td>\n",
              "      <td>Teens</td>\n",
              "    </tr>\n",
              "    <tr>\n",
              "      <th>4</th>\n",
              "      <td>s5</td>\n",
              "      <td>Movie</td>\n",
              "      <td>21</td>\n",
              "      <td>Jim Sturgess, Kevin Spacey, Kate Bosworth, Aar...</td>\n",
              "      <td>United States</td>\n",
              "      <td>January 1, 2020</td>\n",
              "      <td>2008</td>\n",
              "      <td>PG-13</td>\n",
              "      <td>123 min</td>\n",
              "      <td>Dramas</td>\n",
              "      <td>A brilliant group of students become card-coun...</td>\n",
              "      <td>Teens</td>\n",
              "    </tr>\n",
              "    <tr>\n",
              "      <th>...</th>\n",
              "      <td>...</td>\n",
              "      <td>...</td>\n",
              "      <td>...</td>\n",
              "      <td>...</td>\n",
              "      <td>...</td>\n",
              "      <td>...</td>\n",
              "      <td>...</td>\n",
              "      <td>...</td>\n",
              "      <td>...</td>\n",
              "      <td>...</td>\n",
              "      <td>...</td>\n",
              "      <td>...</td>\n",
              "    </tr>\n",
              "    <tr>\n",
              "      <th>7782</th>\n",
              "      <td>s7783</td>\n",
              "      <td>Movie</td>\n",
              "      <td>Zozo</td>\n",
              "      <td>Imad Creidi, Antoinette Turk, Elias Gergi, Car...</td>\n",
              "      <td>Sweden, Czech Republic, United Kingdom, Denmar...</td>\n",
              "      <td>October 19, 2020</td>\n",
              "      <td>2005</td>\n",
              "      <td>TV-MA</td>\n",
              "      <td>99 min</td>\n",
              "      <td>Dramas, International Movies</td>\n",
              "      <td>When Lebanon's Civil War deprives Zozo of his ...</td>\n",
              "      <td>Adults</td>\n",
              "    </tr>\n",
              "    <tr>\n",
              "      <th>7783</th>\n",
              "      <td>s7784</td>\n",
              "      <td>Movie</td>\n",
              "      <td>Zubaan</td>\n",
              "      <td>Vicky Kaushal, Sarah-Jane Dias, Raaghav Chanan...</td>\n",
              "      <td>India</td>\n",
              "      <td>March 2, 2019</td>\n",
              "      <td>2015</td>\n",
              "      <td>TV-14</td>\n",
              "      <td>111 min</td>\n",
              "      <td>Dramas, International Movies, Music &amp; Musicals</td>\n",
              "      <td>A scrappy but poor boy worms his way into a ty...</td>\n",
              "      <td>Teens</td>\n",
              "    </tr>\n",
              "    <tr>\n",
              "      <th>7784</th>\n",
              "      <td>s7785</td>\n",
              "      <td>Movie</td>\n",
              "      <td>Zulu Man in Japan</td>\n",
              "      <td>Nasty C</td>\n",
              "      <td>United States</td>\n",
              "      <td>September 25, 2020</td>\n",
              "      <td>2019</td>\n",
              "      <td>TV-MA</td>\n",
              "      <td>44 min</td>\n",
              "      <td>Documentaries, International Movies, Music &amp; M...</td>\n",
              "      <td>In this documentary, South African rapper Nast...</td>\n",
              "      <td>Adults</td>\n",
              "    </tr>\n",
              "    <tr>\n",
              "      <th>7785</th>\n",
              "      <td>s7786</td>\n",
              "      <td>TV Show</td>\n",
              "      <td>Zumbo's Just Desserts</td>\n",
              "      <td>Adriano Zumbo, Rachel Khoo</td>\n",
              "      <td>Australia</td>\n",
              "      <td>October 31, 2020</td>\n",
              "      <td>2019</td>\n",
              "      <td>TV-PG</td>\n",
              "      <td>1 Season</td>\n",
              "      <td>International TV Shows, Reality TV</td>\n",
              "      <td>Dessert wizard Adriano Zumbo looks for the nex...</td>\n",
              "      <td>Older Kids</td>\n",
              "    </tr>\n",
              "    <tr>\n",
              "      <th>7786</th>\n",
              "      <td>s7787</td>\n",
              "      <td>Movie</td>\n",
              "      <td>ZZ TOP: THAT LITTLE OL' BAND FROM TEXAS</td>\n",
              "      <td>No cast</td>\n",
              "      <td>United Kingdom, Canada, United States</td>\n",
              "      <td>March 1, 2020</td>\n",
              "      <td>2019</td>\n",
              "      <td>TV-MA</td>\n",
              "      <td>90 min</td>\n",
              "      <td>Documentaries, Music &amp; Musicals</td>\n",
              "      <td>This documentary delves into the mystique behi...</td>\n",
              "      <td>Adults</td>\n",
              "    </tr>\n",
              "  </tbody>\n",
              "</table>\n",
              "<p>7770 rows × 12 columns</p>\n",
              "</div>\n",
              "      <button class=\"colab-df-convert\" onclick=\"convertToInteractive('df-bfc8a66c-1130-44b9-a070-c0ce3c44c48d')\"\n",
              "              title=\"Convert this dataframe to an interactive table.\"\n",
              "              style=\"display:none;\">\n",
              "\n",
              "  <svg xmlns=\"http://www.w3.org/2000/svg\" height=\"24px\"viewBox=\"0 0 24 24\"\n",
              "       width=\"24px\">\n",
              "    <path d=\"M0 0h24v24H0V0z\" fill=\"none\"/>\n",
              "    <path d=\"M18.56 5.44l.94 2.06.94-2.06 2.06-.94-2.06-.94-.94-2.06-.94 2.06-2.06.94zm-11 1L8.5 8.5l.94-2.06 2.06-.94-2.06-.94L8.5 2.5l-.94 2.06-2.06.94zm10 10l.94 2.06.94-2.06 2.06-.94-2.06-.94-.94-2.06-.94 2.06-2.06.94z\"/><path d=\"M17.41 7.96l-1.37-1.37c-.4-.4-.92-.59-1.43-.59-.52 0-1.04.2-1.43.59L10.3 9.45l-7.72 7.72c-.78.78-.78 2.05 0 2.83L4 21.41c.39.39.9.59 1.41.59.51 0 1.02-.2 1.41-.59l7.78-7.78 2.81-2.81c.8-.78.8-2.07 0-2.86zM5.41 20L4 18.59l7.72-7.72 1.47 1.35L5.41 20z\"/>\n",
              "  </svg>\n",
              "      </button>\n",
              "\n",
              "\n",
              "\n",
              "    <div id=\"df-cf4562a4-b6f2-4f72-9700-75aab9354f4c\">\n",
              "      <button class=\"colab-df-quickchart\" onclick=\"quickchart('df-cf4562a4-b6f2-4f72-9700-75aab9354f4c')\"\n",
              "              title=\"Suggest charts.\"\n",
              "              style=\"display:none;\">\n",
              "\n",
              "<svg xmlns=\"http://www.w3.org/2000/svg\" height=\"24px\"viewBox=\"0 0 24 24\"\n",
              "     width=\"24px\">\n",
              "    <g>\n",
              "        <path d=\"M19 3H5c-1.1 0-2 .9-2 2v14c0 1.1.9 2 2 2h14c1.1 0 2-.9 2-2V5c0-1.1-.9-2-2-2zM9 17H7v-7h2v7zm4 0h-2V7h2v10zm4 0h-2v-4h2v4z\"/>\n",
              "    </g>\n",
              "</svg>\n",
              "      </button>\n",
              "    </div>\n",
              "\n",
              "<style>\n",
              "  .colab-df-quickchart {\n",
              "    background-color: #E8F0FE;\n",
              "    border: none;\n",
              "    border-radius: 50%;\n",
              "    cursor: pointer;\n",
              "    display: none;\n",
              "    fill: #1967D2;\n",
              "    height: 32px;\n",
              "    padding: 0 0 0 0;\n",
              "    width: 32px;\n",
              "  }\n",
              "\n",
              "  .colab-df-quickchart:hover {\n",
              "    background-color: #E2EBFA;\n",
              "    box-shadow: 0px 1px 2px rgba(60, 64, 67, 0.3), 0px 1px 3px 1px rgba(60, 64, 67, 0.15);\n",
              "    fill: #174EA6;\n",
              "  }\n",
              "\n",
              "  [theme=dark] .colab-df-quickchart {\n",
              "    background-color: #3B4455;\n",
              "    fill: #D2E3FC;\n",
              "  }\n",
              "\n",
              "  [theme=dark] .colab-df-quickchart:hover {\n",
              "    background-color: #434B5C;\n",
              "    box-shadow: 0px 1px 3px 1px rgba(0, 0, 0, 0.15);\n",
              "    filter: drop-shadow(0px 1px 2px rgba(0, 0, 0, 0.3));\n",
              "    fill: #FFFFFF;\n",
              "  }\n",
              "</style>\n",
              "\n",
              "    <script>\n",
              "      async function quickchart(key) {\n",
              "        const containerElement = document.querySelector('#' + key);\n",
              "        const charts = await google.colab.kernel.invokeFunction(\n",
              "            'suggestCharts', [key], {});\n",
              "      }\n",
              "    </script>\n",
              "\n",
              "      <script>\n",
              "\n",
              "function displayQuickchartButton(domScope) {\n",
              "  let quickchartButtonEl =\n",
              "    domScope.querySelector('#df-cf4562a4-b6f2-4f72-9700-75aab9354f4c button.colab-df-quickchart');\n",
              "  quickchartButtonEl.style.display =\n",
              "    google.colab.kernel.accessAllowed ? 'block' : 'none';\n",
              "}\n",
              "\n",
              "        displayQuickchartButton(document);\n",
              "      </script>\n",
              "      <style>\n",
              "    .colab-df-container {\n",
              "      display:flex;\n",
              "      flex-wrap:wrap;\n",
              "      gap: 12px;\n",
              "    }\n",
              "\n",
              "    .colab-df-convert {\n",
              "      background-color: #E8F0FE;\n",
              "      border: none;\n",
              "      border-radius: 50%;\n",
              "      cursor: pointer;\n",
              "      display: none;\n",
              "      fill: #1967D2;\n",
              "      height: 32px;\n",
              "      padding: 0 0 0 0;\n",
              "      width: 32px;\n",
              "    }\n",
              "\n",
              "    .colab-df-convert:hover {\n",
              "      background-color: #E2EBFA;\n",
              "      box-shadow: 0px 1px 2px rgba(60, 64, 67, 0.3), 0px 1px 3px 1px rgba(60, 64, 67, 0.15);\n",
              "      fill: #174EA6;\n",
              "    }\n",
              "\n",
              "    [theme=dark] .colab-df-convert {\n",
              "      background-color: #3B4455;\n",
              "      fill: #D2E3FC;\n",
              "    }\n",
              "\n",
              "    [theme=dark] .colab-df-convert:hover {\n",
              "      background-color: #434B5C;\n",
              "      box-shadow: 0px 1px 3px 1px rgba(0, 0, 0, 0.15);\n",
              "      filter: drop-shadow(0px 1px 2px rgba(0, 0, 0, 0.3));\n",
              "      fill: #FFFFFF;\n",
              "    }\n",
              "  </style>\n",
              "\n",
              "      <script>\n",
              "        const buttonEl =\n",
              "          document.querySelector('#df-bfc8a66c-1130-44b9-a070-c0ce3c44c48d button.colab-df-convert');\n",
              "        buttonEl.style.display =\n",
              "          google.colab.kernel.accessAllowed ? 'block' : 'none';\n",
              "\n",
              "        async function convertToInteractive(key) {\n",
              "          const element = document.querySelector('#df-bfc8a66c-1130-44b9-a070-c0ce3c44c48d');\n",
              "          const dataTable =\n",
              "            await google.colab.kernel.invokeFunction('convertToInteractive',\n",
              "                                                     [key], {});\n",
              "          if (!dataTable) return;\n",
              "\n",
              "          const docLinkHtml = 'Like what you see? Visit the ' +\n",
              "            '<a target=\"_blank\" href=https://colab.research.google.com/notebooks/data_table.ipynb>data table notebook</a>'\n",
              "            + ' to learn more about interactive tables.';\n",
              "          element.innerHTML = '';\n",
              "          dataTable['output_type'] = 'display_data';\n",
              "          await google.colab.output.renderOutput(dataTable, element);\n",
              "          const docLink = document.createElement('div');\n",
              "          docLink.innerHTML = docLinkHtml;\n",
              "          element.appendChild(docLink);\n",
              "        }\n",
              "      </script>\n",
              "    </div>\n",
              "  </div>\n"
            ]
          },
          "metadata": {},
          "execution_count": 44
        }
      ]
    },
    {
      "cell_type": "code",
      "source": [
        "#adding columns of month and year of addition\n",
        "\n",
        "df['month'] = pd.DatetimeIndex(df['date_added']).month\n",
        "df.head()"
      ],
      "metadata": {
        "id": "QXekHHP06bGv",
        "outputId": "22612f0f-387d-459a-9f03-0cc2630afb05",
        "colab": {
          "base_uri": "https://localhost:8080/",
          "height": 528
        }
      },
      "execution_count": 45,
      "outputs": [
        {
          "output_type": "execute_result",
          "data": {
            "text/plain": [
              "  show_id     type  title                                               cast  \\\n",
              "0      s1  TV Show     3%  João Miguel, Bianca Comparato, Michel Gomes, R...   \n",
              "1      s2    Movie   7:19  Demián Bichir, Héctor Bonilla, Oscar Serrano, ...   \n",
              "2      s3    Movie  23:59  Tedd Chan, Stella Chung, Henley Hii, Lawrence ...   \n",
              "3      s4    Movie      9  Elijah Wood, John C. Reilly, Jennifer Connelly...   \n",
              "4      s5    Movie     21  Jim Sturgess, Kevin Spacey, Kate Bosworth, Aar...   \n",
              "\n",
              "         country         date_added  release_year rating   duration  \\\n",
              "0         Brazil    August 14, 2020          2020  TV-MA  4 Seasons   \n",
              "1         Mexico  December 23, 2016          2016  TV-MA     93 min   \n",
              "2      Singapore  December 20, 2018          2011      R     78 min   \n",
              "3  United States  November 16, 2017          2009  PG-13     80 min   \n",
              "4  United States    January 1, 2020          2008  PG-13    123 min   \n",
              "\n",
              "                                           listed_in  \\\n",
              "0  International TV Shows, TV Dramas, TV Sci-Fi &...   \n",
              "1                       Dramas, International Movies   \n",
              "2                Horror Movies, International Movies   \n",
              "3  Action & Adventure, Independent Movies, Sci-Fi...   \n",
              "4                                             Dramas   \n",
              "\n",
              "                                         description target_ages  month  \n",
              "0  In a future where the elite inhabit an island ...      Adults      8  \n",
              "1  After a devastating earthquake hits Mexico Cit...      Adults     12  \n",
              "2  When an army recruit is found dead, his fellow...      Adults     12  \n",
              "3  In a postapocalyptic world, rag-doll robots hi...       Teens     11  \n",
              "4  A brilliant group of students become card-coun...       Teens      1  "
            ],
            "text/html": [
              "\n",
              "\n",
              "  <div id=\"df-4df6b85b-8872-4506-a1f6-7259764c8119\">\n",
              "    <div class=\"colab-df-container\">\n",
              "      <div>\n",
              "<style scoped>\n",
              "    .dataframe tbody tr th:only-of-type {\n",
              "        vertical-align: middle;\n",
              "    }\n",
              "\n",
              "    .dataframe tbody tr th {\n",
              "        vertical-align: top;\n",
              "    }\n",
              "\n",
              "    .dataframe thead th {\n",
              "        text-align: right;\n",
              "    }\n",
              "</style>\n",
              "<table border=\"1\" class=\"dataframe\">\n",
              "  <thead>\n",
              "    <tr style=\"text-align: right;\">\n",
              "      <th></th>\n",
              "      <th>show_id</th>\n",
              "      <th>type</th>\n",
              "      <th>title</th>\n",
              "      <th>cast</th>\n",
              "      <th>country</th>\n",
              "      <th>date_added</th>\n",
              "      <th>release_year</th>\n",
              "      <th>rating</th>\n",
              "      <th>duration</th>\n",
              "      <th>listed_in</th>\n",
              "      <th>description</th>\n",
              "      <th>target_ages</th>\n",
              "      <th>month</th>\n",
              "    </tr>\n",
              "  </thead>\n",
              "  <tbody>\n",
              "    <tr>\n",
              "      <th>0</th>\n",
              "      <td>s1</td>\n",
              "      <td>TV Show</td>\n",
              "      <td>3%</td>\n",
              "      <td>João Miguel, Bianca Comparato, Michel Gomes, R...</td>\n",
              "      <td>Brazil</td>\n",
              "      <td>August 14, 2020</td>\n",
              "      <td>2020</td>\n",
              "      <td>TV-MA</td>\n",
              "      <td>4 Seasons</td>\n",
              "      <td>International TV Shows, TV Dramas, TV Sci-Fi &amp;...</td>\n",
              "      <td>In a future where the elite inhabit an island ...</td>\n",
              "      <td>Adults</td>\n",
              "      <td>8</td>\n",
              "    </tr>\n",
              "    <tr>\n",
              "      <th>1</th>\n",
              "      <td>s2</td>\n",
              "      <td>Movie</td>\n",
              "      <td>7:19</td>\n",
              "      <td>Demián Bichir, Héctor Bonilla, Oscar Serrano, ...</td>\n",
              "      <td>Mexico</td>\n",
              "      <td>December 23, 2016</td>\n",
              "      <td>2016</td>\n",
              "      <td>TV-MA</td>\n",
              "      <td>93 min</td>\n",
              "      <td>Dramas, International Movies</td>\n",
              "      <td>After a devastating earthquake hits Mexico Cit...</td>\n",
              "      <td>Adults</td>\n",
              "      <td>12</td>\n",
              "    </tr>\n",
              "    <tr>\n",
              "      <th>2</th>\n",
              "      <td>s3</td>\n",
              "      <td>Movie</td>\n",
              "      <td>23:59</td>\n",
              "      <td>Tedd Chan, Stella Chung, Henley Hii, Lawrence ...</td>\n",
              "      <td>Singapore</td>\n",
              "      <td>December 20, 2018</td>\n",
              "      <td>2011</td>\n",
              "      <td>R</td>\n",
              "      <td>78 min</td>\n",
              "      <td>Horror Movies, International Movies</td>\n",
              "      <td>When an army recruit is found dead, his fellow...</td>\n",
              "      <td>Adults</td>\n",
              "      <td>12</td>\n",
              "    </tr>\n",
              "    <tr>\n",
              "      <th>3</th>\n",
              "      <td>s4</td>\n",
              "      <td>Movie</td>\n",
              "      <td>9</td>\n",
              "      <td>Elijah Wood, John C. Reilly, Jennifer Connelly...</td>\n",
              "      <td>United States</td>\n",
              "      <td>November 16, 2017</td>\n",
              "      <td>2009</td>\n",
              "      <td>PG-13</td>\n",
              "      <td>80 min</td>\n",
              "      <td>Action &amp; Adventure, Independent Movies, Sci-Fi...</td>\n",
              "      <td>In a postapocalyptic world, rag-doll robots hi...</td>\n",
              "      <td>Teens</td>\n",
              "      <td>11</td>\n",
              "    </tr>\n",
              "    <tr>\n",
              "      <th>4</th>\n",
              "      <td>s5</td>\n",
              "      <td>Movie</td>\n",
              "      <td>21</td>\n",
              "      <td>Jim Sturgess, Kevin Spacey, Kate Bosworth, Aar...</td>\n",
              "      <td>United States</td>\n",
              "      <td>January 1, 2020</td>\n",
              "      <td>2008</td>\n",
              "      <td>PG-13</td>\n",
              "      <td>123 min</td>\n",
              "      <td>Dramas</td>\n",
              "      <td>A brilliant group of students become card-coun...</td>\n",
              "      <td>Teens</td>\n",
              "      <td>1</td>\n",
              "    </tr>\n",
              "  </tbody>\n",
              "</table>\n",
              "</div>\n",
              "      <button class=\"colab-df-convert\" onclick=\"convertToInteractive('df-4df6b85b-8872-4506-a1f6-7259764c8119')\"\n",
              "              title=\"Convert this dataframe to an interactive table.\"\n",
              "              style=\"display:none;\">\n",
              "\n",
              "  <svg xmlns=\"http://www.w3.org/2000/svg\" height=\"24px\"viewBox=\"0 0 24 24\"\n",
              "       width=\"24px\">\n",
              "    <path d=\"M0 0h24v24H0V0z\" fill=\"none\"/>\n",
              "    <path d=\"M18.56 5.44l.94 2.06.94-2.06 2.06-.94-2.06-.94-.94-2.06-.94 2.06-2.06.94zm-11 1L8.5 8.5l.94-2.06 2.06-.94-2.06-.94L8.5 2.5l-.94 2.06-2.06.94zm10 10l.94 2.06.94-2.06 2.06-.94-2.06-.94-.94-2.06-.94 2.06-2.06.94z\"/><path d=\"M17.41 7.96l-1.37-1.37c-.4-.4-.92-.59-1.43-.59-.52 0-1.04.2-1.43.59L10.3 9.45l-7.72 7.72c-.78.78-.78 2.05 0 2.83L4 21.41c.39.39.9.59 1.41.59.51 0 1.02-.2 1.41-.59l7.78-7.78 2.81-2.81c.8-.78.8-2.07 0-2.86zM5.41 20L4 18.59l7.72-7.72 1.47 1.35L5.41 20z\"/>\n",
              "  </svg>\n",
              "      </button>\n",
              "\n",
              "\n",
              "\n",
              "    <div id=\"df-46673fd8-0928-4305-86ce-cb0e3662a093\">\n",
              "      <button class=\"colab-df-quickchart\" onclick=\"quickchart('df-46673fd8-0928-4305-86ce-cb0e3662a093')\"\n",
              "              title=\"Suggest charts.\"\n",
              "              style=\"display:none;\">\n",
              "\n",
              "<svg xmlns=\"http://www.w3.org/2000/svg\" height=\"24px\"viewBox=\"0 0 24 24\"\n",
              "     width=\"24px\">\n",
              "    <g>\n",
              "        <path d=\"M19 3H5c-1.1 0-2 .9-2 2v14c0 1.1.9 2 2 2h14c1.1 0 2-.9 2-2V5c0-1.1-.9-2-2-2zM9 17H7v-7h2v7zm4 0h-2V7h2v10zm4 0h-2v-4h2v4z\"/>\n",
              "    </g>\n",
              "</svg>\n",
              "      </button>\n",
              "    </div>\n",
              "\n",
              "<style>\n",
              "  .colab-df-quickchart {\n",
              "    background-color: #E8F0FE;\n",
              "    border: none;\n",
              "    border-radius: 50%;\n",
              "    cursor: pointer;\n",
              "    display: none;\n",
              "    fill: #1967D2;\n",
              "    height: 32px;\n",
              "    padding: 0 0 0 0;\n",
              "    width: 32px;\n",
              "  }\n",
              "\n",
              "  .colab-df-quickchart:hover {\n",
              "    background-color: #E2EBFA;\n",
              "    box-shadow: 0px 1px 2px rgba(60, 64, 67, 0.3), 0px 1px 3px 1px rgba(60, 64, 67, 0.15);\n",
              "    fill: #174EA6;\n",
              "  }\n",
              "\n",
              "  [theme=dark] .colab-df-quickchart {\n",
              "    background-color: #3B4455;\n",
              "    fill: #D2E3FC;\n",
              "  }\n",
              "\n",
              "  [theme=dark] .colab-df-quickchart:hover {\n",
              "    background-color: #434B5C;\n",
              "    box-shadow: 0px 1px 3px 1px rgba(0, 0, 0, 0.15);\n",
              "    filter: drop-shadow(0px 1px 2px rgba(0, 0, 0, 0.3));\n",
              "    fill: #FFFFFF;\n",
              "  }\n",
              "</style>\n",
              "\n",
              "    <script>\n",
              "      async function quickchart(key) {\n",
              "        const containerElement = document.querySelector('#' + key);\n",
              "        const charts = await google.colab.kernel.invokeFunction(\n",
              "            'suggestCharts', [key], {});\n",
              "      }\n",
              "    </script>\n",
              "\n",
              "      <script>\n",
              "\n",
              "function displayQuickchartButton(domScope) {\n",
              "  let quickchartButtonEl =\n",
              "    domScope.querySelector('#df-46673fd8-0928-4305-86ce-cb0e3662a093 button.colab-df-quickchart');\n",
              "  quickchartButtonEl.style.display =\n",
              "    google.colab.kernel.accessAllowed ? 'block' : 'none';\n",
              "}\n",
              "\n",
              "        displayQuickchartButton(document);\n",
              "      </script>\n",
              "      <style>\n",
              "    .colab-df-container {\n",
              "      display:flex;\n",
              "      flex-wrap:wrap;\n",
              "      gap: 12px;\n",
              "    }\n",
              "\n",
              "    .colab-df-convert {\n",
              "      background-color: #E8F0FE;\n",
              "      border: none;\n",
              "      border-radius: 50%;\n",
              "      cursor: pointer;\n",
              "      display: none;\n",
              "      fill: #1967D2;\n",
              "      height: 32px;\n",
              "      padding: 0 0 0 0;\n",
              "      width: 32px;\n",
              "    }\n",
              "\n",
              "    .colab-df-convert:hover {\n",
              "      background-color: #E2EBFA;\n",
              "      box-shadow: 0px 1px 2px rgba(60, 64, 67, 0.3), 0px 1px 3px 1px rgba(60, 64, 67, 0.15);\n",
              "      fill: #174EA6;\n",
              "    }\n",
              "\n",
              "    [theme=dark] .colab-df-convert {\n",
              "      background-color: #3B4455;\n",
              "      fill: #D2E3FC;\n",
              "    }\n",
              "\n",
              "    [theme=dark] .colab-df-convert:hover {\n",
              "      background-color: #434B5C;\n",
              "      box-shadow: 0px 1px 3px 1px rgba(0, 0, 0, 0.15);\n",
              "      filter: drop-shadow(0px 1px 2px rgba(0, 0, 0, 0.3));\n",
              "      fill: #FFFFFF;\n",
              "    }\n",
              "  </style>\n",
              "\n",
              "      <script>\n",
              "        const buttonEl =\n",
              "          document.querySelector('#df-4df6b85b-8872-4506-a1f6-7259764c8119 button.colab-df-convert');\n",
              "        buttonEl.style.display =\n",
              "          google.colab.kernel.accessAllowed ? 'block' : 'none';\n",
              "\n",
              "        async function convertToInteractive(key) {\n",
              "          const element = document.querySelector('#df-4df6b85b-8872-4506-a1f6-7259764c8119');\n",
              "          const dataTable =\n",
              "            await google.colab.kernel.invokeFunction('convertToInteractive',\n",
              "                                                     [key], {});\n",
              "          if (!dataTable) return;\n",
              "\n",
              "          const docLinkHtml = 'Like what you see? Visit the ' +\n",
              "            '<a target=\"_blank\" href=https://colab.research.google.com/notebooks/data_table.ipynb>data table notebook</a>'\n",
              "            + ' to learn more about interactive tables.';\n",
              "          element.innerHTML = '';\n",
              "          dataTable['output_type'] = 'display_data';\n",
              "          await google.colab.output.renderOutput(dataTable, element);\n",
              "          const docLink = document.createElement('div');\n",
              "          docLink.innerHTML = docLinkHtml;\n",
              "          element.appendChild(docLink);\n",
              "        }\n",
              "      </script>\n",
              "    </div>\n",
              "  </div>\n"
            ]
          },
          "metadata": {},
          "execution_count": 45
        }
      ]
    },
    {
      "cell_type": "markdown",
      "source": [
        "**4.Release_month**"
      ],
      "metadata": {
        "id": "mOk70ugx6l21"
      }
    },
    {
      "cell_type": "code",
      "source": [
        "# Plotting the Countplot\n",
        "plt.figure(figsize=(12,10))\n",
        "ax=sns.countplot('month',data= df)"
      ],
      "metadata": {
        "id": "H8aoJR786Vc9",
        "outputId": "9342542f-1f47-4c11-ace8-adf903ff240b",
        "colab": {
          "base_uri": "https://localhost:8080/",
          "height": 226
        }
      },
      "execution_count": 49,
      "outputs": [
        {
          "output_type": "error",
          "ename": "TypeError",
          "evalue": "ignored",
          "traceback": [
            "\u001b[0;31m---------------------------------------------------------------------------\u001b[0m",
            "\u001b[0;31mTypeError\u001b[0m                                 Traceback (most recent call last)",
            "\u001b[0;32m<ipython-input-49-ef3c05e1612e>\u001b[0m in \u001b[0;36m<cell line: 3>\u001b[0;34m()\u001b[0m\n\u001b[1;32m      1\u001b[0m \u001b[0;31m# Plotting the Countplot\u001b[0m\u001b[0;34m\u001b[0m\u001b[0;34m\u001b[0m\u001b[0m\n\u001b[1;32m      2\u001b[0m \u001b[0mplt\u001b[0m\u001b[0;34m.\u001b[0m\u001b[0mfigure\u001b[0m\u001b[0;34m(\u001b[0m\u001b[0mfigsize\u001b[0m\u001b[0;34m=\u001b[0m\u001b[0;34m(\u001b[0m\u001b[0;36m12\u001b[0m\u001b[0;34m,\u001b[0m\u001b[0;36m10\u001b[0m\u001b[0;34m)\u001b[0m\u001b[0;34m)\u001b[0m\u001b[0;34m\u001b[0m\u001b[0;34m\u001b[0m\u001b[0m\n\u001b[0;32m----> 3\u001b[0;31m \u001b[0max\u001b[0m\u001b[0;34m=\u001b[0m\u001b[0msns\u001b[0m\u001b[0;34m.\u001b[0m\u001b[0mcountplot\u001b[0m\u001b[0;34m(\u001b[0m\u001b[0;34m'month'\u001b[0m\u001b[0;34m,\u001b[0m\u001b[0mdata\u001b[0m\u001b[0;34m=\u001b[0m \u001b[0mdf\u001b[0m\u001b[0;34m)\u001b[0m\u001b[0;34m\u001b[0m\u001b[0;34m\u001b[0m\u001b[0m\n\u001b[0m",
            "\u001b[0;31mTypeError\u001b[0m: countplot() got multiple values for argument 'data'"
          ]
        },
        {
          "output_type": "display_data",
          "data": {
            "text/plain": [
              "<Figure size 1200x1000 with 0 Axes>"
            ]
          },
          "metadata": {}
        }
      ]
    },
    {
      "cell_type": "markdown",
      "source": [
        "**5.genre**"
      ],
      "metadata": {
        "id": "hqj98kVY8QZM"
      }
    },
    {
      "cell_type": "code",
      "source": [
        "#Analysing top10 genre of the movies\n",
        "plt.figure(figsize=(14,6))\n",
        "plt.title('Top10 Genre of Movies',fontweight=\"bold\")\n",
        "sns.countplot(y=movies['listed_in'],data=movies,order=movies['listed_in'].value_counts().index[0:10])"
      ],
      "metadata": {
        "id": "p38VDY1N6uUE",
        "outputId": "55c57f2a-67fe-445b-ee3b-c4e2e94c0384",
        "colab": {
          "base_uri": "https://localhost:8080/",
          "height": 409
        }
      },
      "execution_count": 50,
      "outputs": [
        {
          "output_type": "execute_result",
          "data": {
            "text/plain": [
              "<Axes: title={'center': 'Top10 Genre of Movies'}, xlabel='count', ylabel='listed_in'>"
            ]
          },
          "metadata": {},
          "execution_count": 50
        },
        {
          "output_type": "display_data",
          "data": {
            "text/plain": [
              "<Figure size 1400x600 with 1 Axes>"
            ],
            "image/png": "[encoded data removed]"
          },
          "metadata": {}
        }
      ]
    },
    {
      "cell_type": "markdown",
      "source": [
        "Documentaries are the top most genre in netflix which is fllowed by standup comedy and Drams and international movies"
      ],
      "metadata": {
        "id": "wAD5Zw378hlV"
      }
    },
    {
      "cell_type": "code",
      "source": [
        "#Analysing top10 genres of TVSHOWS\n",
        "plt.figure(figsize=(14,6))\n",
        "plt.title('Top10 Genre of TV Shows',fontweight=\"bold\")\n",
        "sns.countplot(y=tv_shows['listed_in'],data=tv_shows,order=tv_shows['listed_in'].value_counts().index[0:10])"
      ],
      "metadata": {
        "id": "0klYgEOe8XYC",
        "outputId": "21dd7355-bf63-430a-e32e-aea3aaaba83f",
        "colab": {
          "base_uri": "https://localhost:8080/",
          "height": 387
        }
      },
      "execution_count": 51,
      "outputs": [
        {
          "output_type": "execute_result",
          "data": {
            "text/plain": [
              "<Axes: title={'center': 'Top10 Genre of TV Shows'}, xlabel='count', ylabel='listed_in'>"
            ]
          },
          "metadata": {},
          "execution_count": 51
        },
        {
          "output_type": "display_data",
          "data": {
            "text/plain": [
              "<Figure size 1400x600 with 1 Axes>"
            ],
            "image/png": "[encoded data removed]"
          },
          "metadata": {}
        }
      ]
    },
    {
      "cell_type": "markdown",
      "source": [
        "kids tv is the top most  TV show genre in netflix"
      ],
      "metadata": {
        "id": "oJo0fTDi9DFR"
      }
    },
    {
      "cell_type": "markdown",
      "source": [
        "**6.Duration**"
      ],
      "metadata": {
        "id": "3w9Fx4o49Kia"
      }
    }
  ]
}